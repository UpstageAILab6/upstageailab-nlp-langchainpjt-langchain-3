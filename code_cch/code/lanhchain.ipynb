{
 "cells": [
  {
   "cell_type": "code",
   "execution_count": 1,
   "metadata": {},
   "outputs": [
    {
     "name": "stdout",
     "output_type": "stream",
     "text": [
      "Requirement already satisfied: python-dotenv in c:\\users\\user\\.pyenv\\pyenv-win\\versions\\3.11.9\\lib\\site-packages (1.1.0)\n",
      "Requirement already satisfied: langchain-openai in c:\\users\\user\\.pyenv\\pyenv-win\\versions\\3.11.9\\lib\\site-packages (0.3.12)\n",
      "Requirement already satisfied: langchain-core in c:\\users\\user\\.pyenv\\pyenv-win\\versions\\3.11.9\\lib\\site-packages (0.3.50)\n",
      "Requirement already satisfied: langchain-community in c:\\users\\user\\.pyenv\\pyenv-win\\versions\\3.11.9\\lib\\site-packages (0.3.20)\n",
      "Requirement already satisfied: langchain-text-splitters in c:\\users\\user\\.pyenv\\pyenv-win\\versions\\3.11.9\\lib\\site-packages (0.3.7)\n",
      "Requirement already satisfied: faiss-cpu in c:\\users\\user\\.pyenv\\pyenv-win\\versions\\3.11.9\\lib\\site-packages (1.10.0)\n",
      "Requirement already satisfied: pymupdf in c:\\users\\user\\.pyenv\\pyenv-win\\versions\\3.11.9\\lib\\site-packages (1.25.5)\n",
      "Requirement already satisfied: openai<2.0.0,>=1.68.2 in c:\\users\\user\\.pyenv\\pyenv-win\\versions\\3.11.9\\lib\\site-packages (from langchain-openai) (1.70.0)\n",
      "Requirement already satisfied: tiktoken<1,>=0.7 in c:\\users\\user\\.pyenv\\pyenv-win\\versions\\3.11.9\\lib\\site-packages (from langchain-openai) (0.9.0)\n",
      "Requirement already satisfied: langsmith<0.4,>=0.1.125 in c:\\users\\user\\.pyenv\\pyenv-win\\versions\\3.11.9\\lib\\site-packages (from langchain-core) (0.3.23)\n",
      "Requirement already satisfied: tenacity!=8.4.0,<10.0.0,>=8.1.0 in c:\\users\\user\\.pyenv\\pyenv-win\\versions\\3.11.9\\lib\\site-packages (from langchain-core) (9.1.2)\n",
      "Requirement already satisfied: jsonpatch<2.0,>=1.33 in c:\\users\\user\\.pyenv\\pyenv-win\\versions\\3.11.9\\lib\\site-packages (from langchain-core) (1.33)\n",
      "Requirement already satisfied: PyYAML>=5.3 in c:\\users\\user\\.pyenv\\pyenv-win\\versions\\3.11.9\\lib\\site-packages (from langchain-core) (6.0.2)\n",
      "Requirement already satisfied: packaging<25,>=23.2 in c:\\users\\user\\.pyenv\\pyenv-win\\versions\\3.11.9\\lib\\site-packages (from langchain-core) (24.2)\n",
      "Requirement already satisfied: typing-extensions>=4.7 in c:\\users\\user\\.pyenv\\pyenv-win\\versions\\3.11.9\\lib\\site-packages (from langchain-core) (4.13.0)\n",
      "Requirement already satisfied: pydantic<3.0.0,>=2.5.2 in c:\\users\\user\\.pyenv\\pyenv-win\\versions\\3.11.9\\lib\\site-packages (from langchain-core) (2.11.1)\n",
      "Requirement already satisfied: langchain<1.0.0,>=0.3.21 in c:\\users\\user\\.pyenv\\pyenv-win\\versions\\3.11.9\\lib\\site-packages (from langchain-community) (0.3.22)\n",
      "Requirement already satisfied: SQLAlchemy<3,>=1.4 in c:\\users\\user\\.pyenv\\pyenv-win\\versions\\3.11.9\\lib\\site-packages (from langchain-community) (2.0.40)\n",
      "Requirement already satisfied: requests<3,>=2 in c:\\users\\user\\.pyenv\\pyenv-win\\versions\\3.11.9\\lib\\site-packages (from langchain-community) (2.32.3)\n",
      "Requirement already satisfied: aiohttp<4.0.0,>=3.8.3 in c:\\users\\user\\.pyenv\\pyenv-win\\versions\\3.11.9\\lib\\site-packages (from langchain-community) (3.11.16)\n",
      "Requirement already satisfied: dataclasses-json<0.7,>=0.5.7 in c:\\users\\user\\.pyenv\\pyenv-win\\versions\\3.11.9\\lib\\site-packages (from langchain-community) (0.6.7)\n",
      "Requirement already satisfied: pydantic-settings<3.0.0,>=2.4.0 in c:\\users\\user\\.pyenv\\pyenv-win\\versions\\3.11.9\\lib\\site-packages (from langchain-community) (2.8.1)\n",
      "Requirement already satisfied: httpx-sse<1.0.0,>=0.4.0 in c:\\users\\user\\.pyenv\\pyenv-win\\versions\\3.11.9\\lib\\site-packages (from langchain-community) (0.4.0)\n",
      "Requirement already satisfied: numpy<3,>=1.26.2 in c:\\users\\user\\.pyenv\\pyenv-win\\versions\\3.11.9\\lib\\site-packages (from langchain-community) (1.26.4)\n",
      "Requirement already satisfied: aiohappyeyeballs>=2.3.0 in c:\\users\\user\\.pyenv\\pyenv-win\\versions\\3.11.9\\lib\\site-packages (from aiohttp<4.0.0,>=3.8.3->langchain-community) (2.6.1)\n",
      "Requirement already satisfied: aiosignal>=1.1.2 in c:\\users\\user\\.pyenv\\pyenv-win\\versions\\3.11.9\\lib\\site-packages (from aiohttp<4.0.0,>=3.8.3->langchain-community) (1.3.2)\n",
      "Requirement already satisfied: attrs>=17.3.0 in c:\\users\\user\\.pyenv\\pyenv-win\\versions\\3.11.9\\lib\\site-packages (from aiohttp<4.0.0,>=3.8.3->langchain-community) (25.3.0)\n",
      "Requirement already satisfied: frozenlist>=1.1.1 in c:\\users\\user\\.pyenv\\pyenv-win\\versions\\3.11.9\\lib\\site-packages (from aiohttp<4.0.0,>=3.8.3->langchain-community) (1.5.0)\n",
      "Requirement already satisfied: multidict<7.0,>=4.5 in c:\\users\\user\\.pyenv\\pyenv-win\\versions\\3.11.9\\lib\\site-packages (from aiohttp<4.0.0,>=3.8.3->langchain-community) (6.2.0)\n",
      "Requirement already satisfied: propcache>=0.2.0 in c:\\users\\user\\.pyenv\\pyenv-win\\versions\\3.11.9\\lib\\site-packages (from aiohttp<4.0.0,>=3.8.3->langchain-community) (0.3.1)\n",
      "Requirement already satisfied: yarl<2.0,>=1.17.0 in c:\\users\\user\\.pyenv\\pyenv-win\\versions\\3.11.9\\lib\\site-packages (from aiohttp<4.0.0,>=3.8.3->langchain-community) (1.18.3)\n",
      "Requirement already satisfied: marshmallow<4.0.0,>=3.18.0 in c:\\users\\user\\.pyenv\\pyenv-win\\versions\\3.11.9\\lib\\site-packages (from dataclasses-json<0.7,>=0.5.7->langchain-community) (3.26.1)\n",
      "Requirement already satisfied: typing-inspect<1,>=0.4.0 in c:\\users\\user\\.pyenv\\pyenv-win\\versions\\3.11.9\\lib\\site-packages (from dataclasses-json<0.7,>=0.5.7->langchain-community) (0.9.0)\n",
      "Requirement already satisfied: jsonpointer>=1.9 in c:\\users\\user\\.pyenv\\pyenv-win\\versions\\3.11.9\\lib\\site-packages (from jsonpatch<2.0,>=1.33->langchain-core) (3.0.0)\n",
      "Requirement already satisfied: httpx<1,>=0.23.0 in c:\\users\\user\\.pyenv\\pyenv-win\\versions\\3.11.9\\lib\\site-packages (from langsmith<0.4,>=0.1.125->langchain-core) (0.28.1)\n",
      "Requirement already satisfied: orjson<4.0.0,>=3.9.14 in c:\\users\\user\\.pyenv\\pyenv-win\\versions\\3.11.9\\lib\\site-packages (from langsmith<0.4,>=0.1.125->langchain-core) (3.10.16)\n",
      "Requirement already satisfied: requests-toolbelt<2.0.0,>=1.0.0 in c:\\users\\user\\.pyenv\\pyenv-win\\versions\\3.11.9\\lib\\site-packages (from langsmith<0.4,>=0.1.125->langchain-core) (1.0.0)\n",
      "Requirement already satisfied: zstandard<0.24.0,>=0.23.0 in c:\\users\\user\\.pyenv\\pyenv-win\\versions\\3.11.9\\lib\\site-packages (from langsmith<0.4,>=0.1.125->langchain-core) (0.23.0)\n",
      "Requirement already satisfied: anyio<5,>=3.5.0 in c:\\users\\user\\.pyenv\\pyenv-win\\versions\\3.11.9\\lib\\site-packages (from openai<2.0.0,>=1.68.2->langchain-openai) (4.9.0)\n",
      "Requirement already satisfied: distro<2,>=1.7.0 in c:\\users\\user\\.pyenv\\pyenv-win\\versions\\3.11.9\\lib\\site-packages (from openai<2.0.0,>=1.68.2->langchain-openai) (1.9.0)\n",
      "Requirement already satisfied: jiter<1,>=0.4.0 in c:\\users\\user\\.pyenv\\pyenv-win\\versions\\3.11.9\\lib\\site-packages (from openai<2.0.0,>=1.68.2->langchain-openai) (0.9.0)\n",
      "Requirement already satisfied: sniffio in c:\\users\\user\\.pyenv\\pyenv-win\\versions\\3.11.9\\lib\\site-packages (from openai<2.0.0,>=1.68.2->langchain-openai) (1.3.1)\n",
      "Requirement already satisfied: tqdm>4 in c:\\users\\user\\.pyenv\\pyenv-win\\versions\\3.11.9\\lib\\site-packages (from openai<2.0.0,>=1.68.2->langchain-openai) (4.67.1)\n",
      "Requirement already satisfied: annotated-types>=0.6.0 in c:\\users\\user\\.pyenv\\pyenv-win\\versions\\3.11.9\\lib\\site-packages (from pydantic<3.0.0,>=2.5.2->langchain-core) (0.7.0)\n",
      "Requirement already satisfied: pydantic-core==2.33.0 in c:\\users\\user\\.pyenv\\pyenv-win\\versions\\3.11.9\\lib\\site-packages (from pydantic<3.0.0,>=2.5.2->langchain-core) (2.33.0)\n",
      "Requirement already satisfied: typing-inspection>=0.4.0 in c:\\users\\user\\.pyenv\\pyenv-win\\versions\\3.11.9\\lib\\site-packages (from pydantic<3.0.0,>=2.5.2->langchain-core) (0.4.0)\n",
      "Requirement already satisfied: charset-normalizer<4,>=2 in c:\\users\\user\\.pyenv\\pyenv-win\\versions\\3.11.9\\lib\\site-packages (from requests<3,>=2->langchain-community) (3.4.1)\n",
      "Requirement already satisfied: idna<4,>=2.5 in c:\\users\\user\\.pyenv\\pyenv-win\\versions\\3.11.9\\lib\\site-packages (from requests<3,>=2->langchain-community) (3.10)\n",
      "Requirement already satisfied: urllib3<3,>=1.21.1 in c:\\users\\user\\.pyenv\\pyenv-win\\versions\\3.11.9\\lib\\site-packages (from requests<3,>=2->langchain-community) (2.3.0)\n",
      "Requirement already satisfied: certifi>=2017.4.17 in c:\\users\\user\\.pyenv\\pyenv-win\\versions\\3.11.9\\lib\\site-packages (from requests<3,>=2->langchain-community) (2025.1.31)\n",
      "Requirement already satisfied: greenlet>=1 in c:\\users\\user\\.pyenv\\pyenv-win\\versions\\3.11.9\\lib\\site-packages (from SQLAlchemy<3,>=1.4->langchain-community) (3.1.1)\n",
      "Requirement already satisfied: regex>=2022.1.18 in c:\\users\\user\\.pyenv\\pyenv-win\\versions\\3.11.9\\lib\\site-packages (from tiktoken<1,>=0.7->langchain-openai) (2024.11.6)\n",
      "Requirement already satisfied: httpcore==1.* in c:\\users\\user\\.pyenv\\pyenv-win\\versions\\3.11.9\\lib\\site-packages (from httpx<1,>=0.23.0->langsmith<0.4,>=0.1.125->langchain-core) (1.0.7)\n",
      "Requirement already satisfied: h11<0.15,>=0.13 in c:\\users\\user\\.pyenv\\pyenv-win\\versions\\3.11.9\\lib\\site-packages (from httpcore==1.*->httpx<1,>=0.23.0->langsmith<0.4,>=0.1.125->langchain-core) (0.14.0)\n",
      "Requirement already satisfied: colorama in c:\\users\\user\\.pyenv\\pyenv-win\\versions\\3.11.9\\lib\\site-packages (from tqdm>4->openai<2.0.0,>=1.68.2->langchain-openai) (0.4.6)\n",
      "Requirement already satisfied: mypy-extensions>=0.3.0 in c:\\users\\user\\.pyenv\\pyenv-win\\versions\\3.11.9\\lib\\site-packages (from typing-inspect<1,>=0.4.0->dataclasses-json<0.7,>=0.5.7->langchain-community) (1.0.0)\n"
     ]
    },
    {
     "name": "stderr",
     "output_type": "stream",
     "text": [
      "\n",
      "[notice] A new release of pip is available: 24.0 -> 25.0.1\n",
      "[notice] To update, run: python.exe -m pip install --upgrade pip\n"
     ]
    }
   ],
   "source": [
    "!pip install python-dotenv langchain-openai langchain-core langchain-community langchain-text-splitters faiss-cpu pymupdf"
   ]
  },
  {
   "cell_type": "code",
   "execution_count": 6,
   "metadata": {},
   "outputs": [],
   "source": [
    "import json\n",
    "from langchain_core.documents import Document\n",
    "from langchain_text_splitters import RecursiveCharacterTextSplitter\n",
    "from langchain_community.vectorstores import FAISS\n",
    "from langchain_openai import OpenAIEmbeddings, ChatOpenAI\n",
    "from langchain_core.output_parsers import StrOutputParser\n",
    "from langchain_core.runnables import RunnablePassthrough\n",
    "from langchain_core.prompts import PromptTemplate"
   ]
  },
  {
   "cell_type": "code",
   "execution_count": 7,
   "metadata": {},
   "outputs": [
    {
     "name": "stdout",
     "output_type": "stream",
     "text": [
      "✅ OpenAI 키 로드됨: True\n",
      "✅ LangSmith 키 로드됨: True\n",
      "현재 LangSmith 프로젝트: Test\n"
     ]
    }
   ],
   "source": [
    "import os\n",
    "from dotenv import load_dotenv\n",
    "from langsmith import Client\n",
    "from langchain_core.tracers import LangChainTracer\n",
    "\n",
    "# .env 파일 로드\n",
    "load_dotenv()\n",
    "\n",
    "# ✅ 환경 변수 불러오기 상태 확인\n",
    "print(\"✅ OpenAI 키 로드됨:\", os.getenv(\"OPENAI_API_KEY\") is not None)\n",
    "print(\"✅ LangSmith 키 로드됨:\", os.getenv(\"LANGSMITH_API_KEY\") is not None)\n",
    "\n",
    "# LangSmith 환경 설정 (동적 설정)\n",
    "os.environ[\"LANGCHAIN_API_KEY\"] = os.getenv(\"LANGSMITH_API_KEY\")  # .env에서 불러옴\n",
    "os.environ[\"LANGCHAIN_ENDPOINT\"] = os.getenv(\"LANGSMITH_ENDPOINT\") or \"https://api.smith.langchain.com\"\n",
    "os.environ[\"LANGCHAIN_PROJECT\"] = \"Test\"  # 원하는 프로젝트 이름\n",
    "\n",
    "# LangSmith 클라이언트 직접 사용할 수도 있음\n",
    "client = Client()\n",
    "print(\"현재 LangSmith 프로젝트:\", os.environ[\"LANGCHAIN_PROJECT\"])\n"
   ]
  },
  {
   "cell_type": "code",
   "execution_count": 11,
   "metadata": {},
   "outputs": [
    {
     "name": "stdout",
     "output_type": "stream",
     "text": [
      "✅ 파일 경로 확인 완료: C:\\Users\\user\\vscode\\langchain\\data\\gov24_serviceList_all.json\n",
      "📦 JSON 로드 완료: 항목 수 10245개\n"
     ]
    }
   ],
   "source": [
    "# 1. 절대경로 지정\n",
    "absolute_path = r\"C:\\Users\\user\\vscode\\langchain\\data\\gov24_serviceList_all.json\"\n",
    "\n",
    "# 2. 파일 존재 여부 확인\n",
    "if os.path.exists(absolute_path):\n",
    "    print(\"✅ 파일 경로 확인 완료:\", absolute_path)\n",
    "else:\n",
    "    print(\"❌ 경로에 파일이 존재하지 않습니다.\")\n",
    "\n",
    "# 3. JSON 로드 함수에 직접 경로 넘기기\n",
    "def load_json_from_absolute_path(file_path: str):\n",
    "    try:\n",
    "        with open(file_path, \"r\", encoding=\"utf-8\") as f:\n",
    "            data = json.load(f)\n",
    "        print(f\"📦 JSON 로드 완료: 항목 수 {len(data)}개\")\n",
    "        return data\n",
    "    except Exception as e:\n",
    "        print(f\"❌ 파일 로드 오류: {e}\")\n",
    "        return []\n",
    "\n",
    "# 사용 예시\n",
    "data = load_json_from_absolute_path(absolute_path)"
   ]
  },
  {
   "cell_type": "code",
   "execution_count": null,
   "metadata": {},
   "outputs": [
    {
     "name": "stdout",
     "output_type": "stream",
     "text": [
      "📝 LangChain 문서 변환 완료: 10245개\n"
     ]
    }
   ],
   "source": [
    "from langchain_core.documents import Document\n",
    "\n",
    "documents = []\n",
    "for item in data:\n",
    "    content = f\"\"\"\n",
    "서비스명: {item.get('서비스명')}\n",
    "서비스목적: {item.get('서비스목적요약')}\n",
    "지원대상: {item.get('지원대상')}\n",
    "지원내용: {item.get('지원내용')}\n",
    "신청방법: {item.get('신청방법')}\n",
    "신청기한: {item.get('신청기한')}\n",
    "선정기준: {item.get('선정기준')}\n",
    "서비스분야: {item.get('서비스분야')}\n",
    "소관기관: {item.get('소관기관명')}\n",
    "문의전화: {item.get('전화문의')}\n",
    "상세조회URL: {item.get('상세조회URL')}\n",
    "\"\"\"\n",
    "    documents.append(Document(page_content=content.strip(), metadata={\"서비스ID\": item.get(\"서비스ID\")}))\n",
    "\n",
    "print(f\"LangChain 문서 변환 완료: {len(documents)}개\")\n"
   ]
  },
  {
   "cell_type": "code",
   "execution_count": 13,
   "metadata": {},
   "outputs": [],
   "source": [
    "text_splitter = RecursiveCharacterTextSplitter(\n",
    "    chunk_size=800,\n",
    "    chunk_overlap=50,\n",
    "    separators=[\"\\n\\n\", \"\\n\", \".\", \" \", \"\"]\n",
    ")"
   ]
  },
  {
   "cell_type": "code",
   "execution_count": null,
   "metadata": {},
   "outputs": [
    {
     "name": "stdout",
     "output_type": "stream",
     "text": [
      "🔹 분할된 문서 수: 11721\n",
      "🔹 첫 청크 내용:\n",
      " 서비스명: 유아학비 (누리과정) 지원\n",
      "서비스목적: 유치원에 다니는 만 3~5세 아동에게 유아학비, 방과후과정비 등 지원\n",
      "지원대상: ○ 지원대상 : 국공립 및 사립유치원에 다니는 3~5세 유아\n",
      "  \n",
      "   - '22년 1~2월생으로 유치원 입학을 희망하여 3세반에 취원한 유아도 지원 대상\n",
      "   -  취학대상 아동('18.1.1~12.31.출생)이 취학을 유예하는 경우, 유예한 1년에 한하여 5세 유아 무상교육비 지원(취학유예 통지서 제출)\n",
      "   ※ 단, 지원기간은 3년을 초과할 수 없음.\n",
      "\n",
      "\n",
      "\n",
      "○ 추가지원 : 저소득층 유아(유아학비 지원 대상 자격이 있고, 사립유치원에 다니는 법정저소득층(기초생활수급자, 차상위계층, 한부모 가정) 유아)\n",
      "\n",
      "○  아래의 경우 지원대상에서 제외\n",
      "   -  대한민국 국적을 가지지 않은 유아(난민 및 「재한외국인 처우 기본법」에 따라 법무부장관이 인정한 '특별기여자 등'은 예외적으로 인정)\n",
      "   - 가정 양육수당 및 어린이집 보육료를 지원\n"
     ]
    }
   ],
   "source": [
    "split_documents = text_splitter.split_documents(documents)\n",
    "print(f\"분할된 문서 수: {len(split_documents)}\")\n",
    "print(\"첫 청크 내용:\\n\", split_documents[0].page_content[:500])"
   ]
  },
  {
   "cell_type": "code",
   "execution_count": 15,
   "metadata": {},
   "outputs": [
    {
     "name": "stdout",
     "output_type": "stream",
     "text": [
      "\n",
      "--- 청크 1 ---\n",
      "서비스명: 유아학비 (누리과정) 지원\n",
      "서비스목적: 유치원에 다니는 만 3~5세 아동에게 유아학비, 방과후과정비 등 지원\n",
      "지원대상: ○ 지원대상 : 국공립 및 사립유치원에 다니는 3~5세 유아\n",
      "  \n",
      "   - '22년 1~2월생으로 유치원 입학을 희망하여 3세반에 취원한 유아도 지원 대상\n",
      "   -  취학대상 아동('18.1.1~12.31.출생)이 취학을 유예하는 경우, 유예한 1년에 한하여 5세 유아 무상교육비 지원(취학유예 통지서 제출)\n",
      "   ※ 단, 지원기간은 3년을 초과할 수 없음.\n",
      "\n",
      "\n",
      "\n",
      "○ 추가지원 : 저소득층 유아(유아학비 지원 대상 자격이 있고, 사립유치원에 다니는 법정저소득층(기초생활수급자, 차상위계층, 한부모 가정) 유아)\n",
      "\n",
      "○  아래의 경우 지원대상에서 제외\n",
      "   -  대한민국 국적을 가지지 않은 유아(난민 및 「재한외국인 처우 기본법」에 따라 법무부장관이 인정한 '특별기여자 등'은 예외적으로 인정)\n",
      "   - 가정 양육수당 및 어린이집 보육료를 지원 받고 있는 유아\n",
      "   -  유치원 이용시간에 아이돌봄서비스 등과 중복지원 불가\n",
      "   - 해외 체류 기간이 31일째 되는 날 유아학비 지원자격 중지\n",
      "\n",
      "○  자격 중지 후 유아학비를 다시 지원받기 위해서는 재신청 필요, 신청 누락으로 발생되는 지원금은 소급지원 되지 않음.\n",
      "지원내용: ○ 3~5세에 대해 교육비를 지급합니다.\n",
      "  - 국공립 100,000원, 사립 280,000원\n",
      "\n",
      "○ 3~5세에 대해 방과후과정비를 지급합니다.\n",
      "   - 국공립 50,000원, 사립 70,000원\n",
      "\n",
      "--- 청크 2 ---\n",
      "- 국공립 50,000원, 사립 70,000원\n",
      "\n",
      "○ 사립유치원을 다니는 법정저소득층 유아에게 저소득층 유아학비를 추가 지급합니다.\n",
      "   - 사립 200,000원\n",
      "신청방법: 기타 온라인신청||방문신청\n",
      "신청기한: 상시신청\n",
      "선정기준: ※ 2025. 3. 1~2026.2.28. 까지 적용\n",
      "\n",
      "○ 지원대상 : 국공립유치원 및 사립유치원에 다니는  만 3~5세 아동\n",
      "       5세  '19.1.1.~'19.12.31.\n",
      "       4세  '20.1.1.~'20.12.31.\n",
      "       3세  '21.1.1.~'22.2.28.\n",
      "\n",
      "\n",
      "○ 신청인 : 아동의 보호자\n",
      "\n",
      "○ 신청장소 : 온라인 신청 (복지로 복지사업서비스 (www.bokjiro.go.kr) ) 및 읍면동 주민센터(아동 주민등록 주소지)\n",
      "\n",
      " - 주의: 온라인 신청은 부모만 가능\n",
      "   ※ 부모 이외의 보호자인 경우(자녀의 친권자 또는  후견인 보호자, 조부모, 사회복지시설장 등) 등 담당공무원의 확인이 필요한 경우는 온라인으로 신청하실수 없으므로 불편하시더라도 읍면동 주민센터(주소지 시군구)에서 신청하시기 바랍니다.\n",
      "서비스분야: 보육·교육\n",
      "소관기관: 교육부\n",
      "문의전화: 교육부/02-6222-6060||0079에듀콜/1544-0079-5-1\n",
      "상세조회URL: https://www.gov.kr/portal/rcvfvrSvc/dtlEx/000000465790\n",
      "\n",
      "--- 청크 3 ---\n",
      "서비스명: 근로·자녀장려금\n",
      "서비스목적: 소득과 재산이 적은 근로소득자에게 근로장려금을, 자녀가 있을 경우 자녀장려금 지급\n",
      "지원대상: ○ 신청요건을 모두 충족하는 근로소득, 사업소득 또는 종교인소득이 있는 가구로써 신청기간 내 신청하는 경우 근로소득, 사업소득 또는 종교인소득에 따라 산정한 근로장려금과 부양자녀수에 따라 산정한 자녀장려금을 지급\n",
      "지원내용: ○ 전년도 연간 부부합산 총 급여액 등(근로소득, 사업소득 또는 종교인소득의 합계)에 따라\n",
      " - 근로장려금은\n",
      "  ㆍ 단독가구 최대 165만 원\n",
      "  ㆍ 홑벌이 가구 최대 285만 원\n",
      "  ㆍ 맞벌이 가구 최대 330만 원 지급\n",
      " - 자녀 장려금은\n",
      "  ㆍ 단독가구 해당 없음\n",
      "  ㆍ 홑벌이 가구 부양자녀 1명 당 최대 100만 원\n",
      "  ㆍ 맞벌이 가구 부양자녀 1명 당 최대 100만 원 지급\n",
      "\n",
      "* 자세한 산정식은 홈택스(www.hometax.go.kr)에서 확인 바랍니다\n",
      "신청방법: 기타 온라인신청\n",
      "신청기한: ○ 정기신청 : 5.1.~5.31.○ 반기신청 - 상반기분 신청 : 9.1.~9.15. - 하반기분 신청 : 3.1.~3.15.\n",
      "선정기준: ○ 아래 요건을 모두 충족하는 근로소득, 사업소득 또는 종교인소득이 있는 가구\n",
      "\n",
      "- 소득요건 : 전년도 부부합산 연간 총소득이 가구 유형에 따라 정한 총 소득기준금액 미만일 것\n",
      "  (근로장려금)\n",
      "  ㆍ 단독가구 : 2,200만 원 미만\n",
      "  ㆍ 홑벌이 가구 : 3,200만 원 미만\n",
      "  ㆍ 맞벌이 가구 : 3,800만 원 미만\n",
      "  (자녀장려금)\n",
      "  ㆍ 7,000만 원 미만\n",
      " - 재산요건\n"
     ]
    }
   ],
   "source": [
    "for i, doc in enumerate(split_documents[:3]):\n",
    "    print(f\"\\n--- 청크 {i+1} ---\")\n",
    "    print(doc.page_content)"
   ]
  },
  {
   "cell_type": "code",
   "execution_count": 16,
   "metadata": {},
   "outputs": [],
   "source": [
    "# OpenAIEmbeddings는 OPENAI_API_KEY를 자동으로 .env에서 불러옴\n",
    "embeddings = OpenAIEmbeddings()"
   ]
  },
  {
   "cell_type": "code",
   "execution_count": 17,
   "metadata": {},
   "outputs": [
    {
     "name": "stdout",
     "output_type": "stream",
     "text": [
      "Requirement already satisfied: tiktoken in c:\\users\\user\\.pyenv\\pyenv-win\\versions\\3.11.9\\lib\\site-packages (0.9.0)\n",
      "Requirement already satisfied: regex>=2022.1.18 in c:\\users\\user\\.pyenv\\pyenv-win\\versions\\3.11.9\\lib\\site-packages (from tiktoken) (2024.11.6)\n",
      "Requirement already satisfied: requests>=2.26.0 in c:\\users\\user\\.pyenv\\pyenv-win\\versions\\3.11.9\\lib\\site-packages (from tiktoken) (2.32.3)\n",
      "Requirement already satisfied: charset-normalizer<4,>=2 in c:\\users\\user\\.pyenv\\pyenv-win\\versions\\3.11.9\\lib\\site-packages (from requests>=2.26.0->tiktoken) (3.4.1)\n",
      "Requirement already satisfied: idna<4,>=2.5 in c:\\users\\user\\.pyenv\\pyenv-win\\versions\\3.11.9\\lib\\site-packages (from requests>=2.26.0->tiktoken) (3.10)\n",
      "Requirement already satisfied: urllib3<3,>=1.21.1 in c:\\users\\user\\.pyenv\\pyenv-win\\versions\\3.11.9\\lib\\site-packages (from requests>=2.26.0->tiktoken) (2.3.0)\n",
      "Requirement already satisfied: certifi>=2017.4.17 in c:\\users\\user\\.pyenv\\pyenv-win\\versions\\3.11.9\\lib\\site-packages (from requests>=2.26.0->tiktoken) (2025.1.31)\n"
     ]
    },
    {
     "name": "stderr",
     "output_type": "stream",
     "text": [
      "\n",
      "[notice] A new release of pip is available: 24.0 -> 25.0.1\n",
      "[notice] To update, run: python.exe -m pip install --upgrade pip\n"
     ]
    }
   ],
   "source": [
    "!pip install tiktoken"
   ]
  },
  {
   "cell_type": "code",
   "execution_count": 18,
   "metadata": {},
   "outputs": [
    {
     "name": "stdout",
     "output_type": "stream",
     "text": [
      "🧮 총 토큰 수: 4,816,550\n",
      "💸 예상 임베딩 비용: $0.096331 USD\n"
     ]
    }
   ],
   "source": [
    "import tiktoken\n",
    "\n",
    "def estimate_embedding_cost(docs, model=\"text-embedding-3-small\", price_per_1k=0.00002):\n",
    "    \"\"\"\n",
    "    문서 리스트에 대한 총 토큰 수 및 예상 비용 계산\n",
    "\n",
    "    Args:\n",
    "        docs: LangChain Document 리스트\n",
    "        model: 사용할 임베딩 모델명 (기본: text-embedding-3-small)\n",
    "        price_per_1k: 1K 토큰당 비용 (달러)\n",
    "\n",
    "    Returns:\n",
    "        total_tokens, estimated_cost\n",
    "    \"\"\"\n",
    "    encoding = tiktoken.encoding_for_model(\"gpt-3.5-turbo\")  # 대부분 동일 토크나이저 사용\n",
    "    total_tokens = sum(len(encoding.encode(doc.page_content)) for doc in docs)\n",
    "    estimated_cost = (total_tokens / 1000) * price_per_1k\n",
    "    return total_tokens, estimated_cost\n",
    "\n",
    "# 사용 예시\n",
    "tokens, cost = estimate_embedding_cost(split_documents)\n",
    "print(f\"🧮 총 토큰 수: {tokens:,}\")\n",
    "print(f\"💸 예상 임베딩 비용: ${cost:.6f} USD\")"
   ]
  },
  {
   "cell_type": "code",
   "execution_count": 19,
   "metadata": {},
   "outputs": [
    {
     "name": "stdout",
     "output_type": "stream",
     "text": [
      "FAISS 벡터스토어 생성 완료!\n"
     ]
    }
   ],
   "source": [
    "# 문서 임베딩 후 FAISS 저장소에 저장\n",
    "vectorstore = FAISS.from_documents(documents=split_documents, embedding=embeddings)\n",
    "\n",
    "print(\"FAISS 벡터스토어 생성 완료!\")"
   ]
  },
  {
   "cell_type": "code",
   "execution_count": 29,
   "metadata": {},
   "outputs": [],
   "source": [
    "retriever_sim = vectorstore.as_retriever(search_type=\"similarity\", search_kwargs={\"k\": 10})\n",
    "retriever_mmr = vectorstore.as_retriever(search_type=\"mmr\", search_kwargs={\"k\": 10, \"lambda_mult\": 0.8})"
   ]
  },
  {
   "cell_type": "code",
   "execution_count": 30,
   "metadata": {},
   "outputs": [],
   "source": [
    "prompt = PromptTemplate.from_template(\"\"\"\n",
    "You are an assistant for answering questions about Korean government support policies.\n",
    "Use the following retrieved context to answer the user's question.\n",
    "If the answer is not in the context, say \"잘 모르겠습니다.\"\n",
    "Respond in Korean.\n",
    "\n",
    "# Context:\n",
    "{context}\n",
    "\n",
    "# Question:\n",
    "{question}\n",
    "\n",
    "# Answer:\n",
    "\"\"\")"
   ]
  },
  {
   "cell_type": "code",
   "execution_count": 31,
   "metadata": {},
   "outputs": [],
   "source": [
    "# LangSmith 트레이싱은 .env 설정만으로 자동 활성화됨\n",
    "# LANGSMITH_TRACING=true 설정 시 실행 로그를 LangSmith에서 확인 가능\n",
    "\n",
    "llm = ChatOpenAI(model_name=\"gpt-4o\", temperature=0)"
   ]
  },
  {
   "cell_type": "code",
   "execution_count": 32,
   "metadata": {},
   "outputs": [],
   "source": [
    "chain_sim = (\n",
    "    {\"context\": retriever_sim, \"question\": RunnablePassthrough()}\n",
    "    | prompt\n",
    "    | llm\n",
    "    | StrOutputParser()\n",
    ")\n",
    "\n",
    "chain_mmr = (\n",
    "    {\"context\": retriever_mmr, \"question\": RunnablePassthrough()}\n",
    "    | prompt\n",
    "    | llm\n",
    "    | StrOutputParser()\n",
    ")"
   ]
  },
  {
   "cell_type": "code",
   "execution_count": null,
   "metadata": {},
   "outputs": [
    {
     "name": "stdout",
     "output_type": "stream",
     "text": [
      "🔹 similarity 방식 응답:\n",
      " 현재 구직 중인 청년이 받을 수 있는 정부지원사업은 다음과 같습니다:\n",
      "\n",
      "1. **청년 취업활동수당**: 영광군에 거주하는 만 18세~45세 미취업 청년에게 매월 50만원씩 최대 6개월 동안 지원합니다. (문의: 인구교육정책실/061-350-5197)\n",
      "\n",
      "2. **청년 취업지원 희망프로젝트**: 15세~39세 이하 미취업 청년을 채용한 도내 중소기업에 1인당 월 50~70만원 최대 2년간 지원합니다. (문의: 경제일자리과/064-710-3795)\n",
      "\n",
      "3. **취업지망생 구직활동지원금 지원**: 양구군 거주 만18세~39세 미취업 청년에게 매월 최대 40만원을 3개월 범위 내에서 지원합니다. (문의: 경제체육과/033-480-7131)\n",
      "\n",
      "4. **청년 취업활동지원금 지급**: 의왕시에 거주하는 기준중위소득 150% 이하의 미취업 청년에게 취업활동 비용 실비를 지원합니다. (문의: 의왕시청 기업일자리과/031-345-2714)\n",
      "\n",
      "5. **청년도전 지원사업**: 천안시에 거주하는 만 18세~39세 미취업 청년에게 맞춤형 프로그램을 제공하며, 프로그램 이수 시 참여수당 및 인센티브를 제공합니다. (문의: 천안청년센터 이음/041-900-2031)\n",
      "\n",
      "각 사업의 상세한 내용과 신청 방법은 해당 기관에 문의하시기 바랍니다.\n",
      "\n",
      "🔸 mmr 방식 응답:\n",
      " 잘 모르겠습니다.\n"
     ]
    }
   ],
   "source": [
    "question = \"현재 구직중인 청년이 받을 수 있는 정부지원사업 뭐가있어?\"\n",
    "\n",
    "response_sim = chain_sim.invoke(question)\n",
    "response_mmr = chain_mmr.invoke(question)\n",
    "\n",
    "print(\"🔹 similarity 방식 응답:\\n\", response_sim)\n",
    "print(\"\\n🔸 mmr 방식 응답:\\n\", response_mmr)\n"
   ]
  },
  {
   "cell_type": "code",
   "execution_count": 27,
   "metadata": {},
   "outputs": [
    {
     "name": "stdout",
     "output_type": "stream",
     "text": [
      "🔹 similarity 방식 응답:\n",
      " 잘 모르겠습니다.\n",
      "\n",
      "🔸 mmr 방식 응답:\n",
      " 3세 이하의 자녀를 위한 지원 가능한 정부지원사업은 다음과 같습니다:\n",
      "\n",
      "1. **셋째아 이상 아이사랑 건강관리비 지원**\n",
      "   - 지원대상: 김해시에 거주하는 셋째아 이상 아동 중 만3세 이하의 아동 중 다누리카드 발급자\n",
      "   - 지원내용: 월 2만원 현금 지원\n",
      "   - 신청방법: 방문신청\n",
      "   - 문의전화: 김해시 아동청소년과/055-330-6756\n",
      "\n",
      "2. **서산시 둘째이후 영유아 양육비 지원**\n",
      "   - 지원대상: 둘째 이후 자녀로 출생일을 기준으로 만3세 이하인 자녀이며 서산시 관내에 주민등록을 두고 실제로 거주하고 있는 출산 가정\n",
      "   - 지원내용: 3세(0~35개월)까지 매월 10만원 지원\n",
      "   - 신청방법: 방문신청\n",
      "   - 문의전화: 서산시 기획예산담당관/041-660-2149\n",
      "\n",
      "이 두 가지 지원사업이 3세 이하 자녀를 위한 지원에 해당합니다.\n"
     ]
    }
   ],
   "source": [
    "question = \"3세 이하의 자녀가 있는데 지원가능한 정부지원사업 알려줘?\"\n",
    "\n",
    "response_sim = chain_sim.invoke(question)\n",
    "response_mmr = chain_mmr.invoke(question)\n",
    "\n",
    "print(\"🔹 similarity 방식 응답:\\n\", response_sim)\n",
    "print(\"\\n🔸 mmr 방식 응답:\\n\", response_mmr)\n"
   ]
  },
  {
   "cell_type": "code",
   "execution_count": 28,
   "metadata": {},
   "outputs": [
    {
     "name": "stdout",
     "output_type": "stream",
     "text": [
      "🔹 similarity 방식 응답:\n",
      " 잘 모르겠습니다.\n",
      "\n",
      "🔸 mmr 방식 응답:\n",
      " 잘 모르겠습니다.\n"
     ]
    }
   ],
   "source": [
    "question = \"아직 유치원을 가지않은 자녀가 있는데 지원가능한 정부지원사업 알려줘?\"\n",
    "\n",
    "response_sim = chain_sim.invoke(question)\n",
    "response_mmr = chain_mmr.invoke(question)\n",
    "\n",
    "print(\"🔹 similarity 방식 응답:\\n\", response_sim)\n",
    "print(\"\\n🔸 mmr 방식 응답:\\n\", response_mmr)"
   ]
  },
  {
   "cell_type": "code",
   "execution_count": null,
   "metadata": {},
   "outputs": [],
   "source": []
  }
 ],
 "metadata": {
  "kernelspec": {
   "display_name": "Python 3",
   "language": "python",
   "name": "python3"
  },
  "language_info": {
   "codemirror_mode": {
    "name": "ipython",
    "version": 3
   },
   "file_extension": ".py",
   "mimetype": "text/x-python",
   "name": "python",
   "nbconvert_exporter": "python",
   "pygments_lexer": "ipython3",
   "version": "3.11.9"
  }
 },
 "nbformat": 4,
 "nbformat_minor": 2
}
