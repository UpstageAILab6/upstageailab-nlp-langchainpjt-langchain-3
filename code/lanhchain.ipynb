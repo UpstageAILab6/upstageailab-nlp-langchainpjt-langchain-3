{
 "cells": [
  {
   "cell_type": "code",
   "execution_count": 1,
   "metadata": {},
   "outputs": [],
   "source": [
    "import json\n",
    "from langchain_core.documents import Document\n",
    "from langchain_text_splitters import RecursiveCharacterTextSplitter\n",
    "from langchain_community.vectorstores import FAISS\n",
    "from langchain_openai import OpenAIEmbeddings, ChatOpenAI\n",
    "from langchain_core.output_parsers import StrOutputParser\n",
    "from langchain_core.runnables import RunnablePassthrough\n",
    "from langchain_core.prompts import PromptTemplate"
   ]
  },
  {
   "cell_type": "code",
   "execution_count": 2,
   "metadata": {},
   "outputs": [
    {
     "name": "stdout",
     "output_type": "stream",
     "text": [
      "✅ OpenAI 키 로드됨: True\n",
      "✅ LangSmith 키 로드됨: True\n",
      "현재 LangSmith 프로젝트: Test\n"
     ]
    }
   ],
   "source": [
    "import os\n",
    "from dotenv import load_dotenv\n",
    "from langsmith import Client\n",
    "from langchain_core.tracers import LangChainTracer\n",
    "\n",
    "# .env 파일 로드\n",
    "load_dotenv()\n",
    "\n",
    "# ✅ 환경 변수 불러오기 상태 확인\n",
    "print(\"✅ OpenAI 키 로드됨:\", os.getenv(\"OPENAI_API_KEY\") is not None)\n",
    "print(\"✅ LangSmith 키 로드됨:\", os.getenv(\"LANGSMITH_API_KEY\") is not None)\n",
    "\n",
    "# LangSmith 환경 설정 (동적 설정)\n",
    "os.environ[\"LANGCHAIN_API_KEY\"] = os.getenv(\"LANGSMITH_API_KEY\")  # .env에서 불러옴\n",
    "os.environ[\"LANGCHAIN_ENDPOINT\"] = os.getenv(\"LANGSMITH_ENDPOINT\") or \"https://api.smith.langchain.com\"\n",
    "os.environ[\"LANGCHAIN_PROJECT\"] = \"Test\"  # 원하는 프로젝트 이름\n",
    "\n",
    "# LangSmith 클라이언트 직접 사용할 수도 있음\n",
    "client = Client()\n",
    "print(\"현재 LangSmith 프로젝트:\", os.environ[\"LANGCHAIN_PROJECT\"])\n"
   ]
  },
  {
   "cell_type": "code",
   "execution_count": 3,
   "metadata": {},
   "outputs": [
    {
     "name": "stdout",
     "output_type": "stream",
     "text": [
      "Index(['구비서류', '문의처', '법령', '서비스ID', '서비스명', '서비스목적', '선정기준', '소관기관명', '수정일시',\n",
      "       '신청기한', '신청방법', '온라인신청사이트URL', '자치법규', '접수기관명', '지원내용', '지원대상', '지원유형',\n",
      "       '행정규칙'],\n",
      "      dtype='object')\n"
     ]
    }
   ],
   "source": [
    "import pandas as pd\n",
    "absolute_path = r\"C:\\Users\\user\\vscode\\langchain\\data\\serviceDetail_all.csv\"\n",
    "df = pd.read_csv(absolute_path)  # 파일 경로에 맞게 조정\n",
    "print(df.columns)  # 어떤 컬럼이 있는지 확인"
   ]
  },
  {
   "cell_type": "code",
   "execution_count": 4,
   "metadata": {},
   "outputs": [],
   "source": [
    "from langchain_core.documents import Document\n",
    "\n",
    "def clean_text(text):\n",
    "    return str(text).replace('\\r', ' ').replace('\\n', ' ').replace('○', '').strip()\n",
    "\n",
    "def extract_chunks_from_row(row):\n",
    "    service_name = clean_text(row.get(\"서비스명\", \"\"))\n",
    "    service_id = row.get(\"서비스ID\", \"\")\n",
    "    base_metadata = {\"서비스ID\": service_id}\n",
    "\n",
    "    #  확장된 필드 리스트\n",
    "    fields = ['지원대상', '지원내용', '신청방법', '접수기관명', '선정기준','문의처']\n",
    "\n",
    "    chunks = []\n",
    "\n",
    "    for field in fields:\n",
    "        value = clean_text(row.get(field, \"\"))\n",
    "        if value and value.lower() != \"nan\":\n",
    "            chunk_text = f\"[정책명: {service_name}] [항목: {field}]\\n{value}\"\n",
    "            chunks.append(Document(page_content=chunk_text, metadata=base_metadata))\n",
    "\n",
    "    return chunks"
   ]
  },
  {
   "cell_type": "code",
   "execution_count": 5,
   "metadata": {},
   "outputs": [
    {
     "name": "stdout",
     "output_type": "stream",
     "text": [
      "총 42795개의 문서 생성 완료\n"
     ]
    }
   ],
   "source": [
    "# 전체 데이터에서 Document 리스트 생성\n",
    "documents = []\n",
    "for _, row in df.iterrows():\n",
    "    documents.extend(extract_chunks_from_row(row))\n",
    "\n",
    "print(f\"총 {len(documents)}개의 문서 생성 완료\")"
   ]
  },
  {
   "cell_type": "code",
   "execution_count": 6,
   "metadata": {},
   "outputs": [],
   "source": [
    "# OpenAIEmbeddings는 OPENAI_API_KEY를 자동으로 .env에서 불러옴\n",
    "embeddings = OpenAIEmbeddings()"
   ]
  },
  {
   "cell_type": "code",
   "execution_count": 7,
   "metadata": {},
   "outputs": [
    {
     "name": "stdout",
     "output_type": "stream",
     "text": [
      "🧮 총 토큰 수: 5,044,564\n",
      "💸 예상 임베딩 비용: $0.100891 USD\n"
     ]
    }
   ],
   "source": [
    "from langchain_text_splitters import RecursiveCharacterTextSplitter\n",
    "\n",
    "text_splitter = RecursiveCharacterTextSplitter(chunk_size=1000, chunk_overlap=50)\n",
    "split_documents = text_splitter.split_documents(documents)\n",
    "\n",
    "import tiktoken\n",
    "\n",
    "def estimate_embedding_cost(docs, model=\"text-embedding-3-small\", price_per_1k=0.00002):\n",
    "    \"\"\"\n",
    "    문서 리스트에 대한 총 토큰 수 및 예상 비용 계산\n",
    "\n",
    "    Args:\n",
    "        docs: LangChain Document 리스트\n",
    "        model: 사용할 임베딩 모델명 (기본: text-embedding-3-small)\n",
    "        price_per_1k: 1K 토큰당 비용 (달러)\n",
    "\n",
    "    Returns:\n",
    "        total_tokens, estimated_cost\n",
    "    \"\"\"\n",
    "    encoding = tiktoken.encoding_for_model(\"gpt-3.5-turbo\")  # 대부분 동일 토크나이저 사용\n",
    "    total_tokens = sum(len(encoding.encode(doc.page_content)) for doc in docs)\n",
    "    estimated_cost = (total_tokens / 1000) * price_per_1k\n",
    "    return total_tokens, estimated_cost\n",
    "\n",
    "# 사용 예시\n",
    "tokens, cost = estimate_embedding_cost(split_documents)\n",
    "print(f\"🧮 총 토큰 수: {tokens:,}\")\n",
    "print(f\"💸 예상 임베딩 비용: ${cost:.6f} USD\")"
   ]
  },
  {
   "cell_type": "code",
   "execution_count": 8,
   "metadata": {},
   "outputs": [
    {
     "name": "stdout",
     "output_type": "stream",
     "text": [
      "FAISS 벡터스토어 생성 완료!\n"
     ]
    }
   ],
   "source": [
    "# 문서 임베딩 후 FAISS 저장소에 저장\n",
    "vectorstore = FAISS.from_documents(documents=documents, embedding=embeddings)\n",
    "\n",
    "print(\"FAISS 벡터스토어 생성 완료!\")"
   ]
  },
  {
   "cell_type": "code",
   "execution_count": 9,
   "metadata": {},
   "outputs": [
    {
     "name": "stdout",
     "output_type": "stream",
     "text": [
      "✅ FAISS 저장 완료 (v2)\n"
     ]
    }
   ],
   "source": [
    "vectorstore.save_local(\"faiss_index_v2\")\n",
    "print(\"✅ FAISS 저장 완료 (v2)\")"
   ]
  },
  {
   "cell_type": "code",
   "execution_count": 13,
   "metadata": {},
   "outputs": [],
   "source": [
    "vectorstore = FAISS.load_local(\n",
    "    \"faiss_index\",\n",
    "    embeddings,\n",
    "    allow_dangerous_deserialization=True\n",
    ")\n",
    "retriever = vectorstore.as_retriever()"
   ]
  },
  {
   "cell_type": "code",
   "execution_count": 14,
   "metadata": {},
   "outputs": [],
   "source": [
    "import numpy as np\n",
    "from typing import List\n",
    "\n",
    "def maximal_marginal_relevance(\n",
    "    query_embedding: np.ndarray,\n",
    "    doc_embeddings: np.ndarray,\n",
    "    lambda_mult: float = 0.5,\n",
    "    k: int = 4\n",
    ") -> List[int]:\n",
    "    \"\"\"Maximal Marginal Relevance (MMR) 알고리즘 직접 구현\"\"\"\n",
    "    if isinstance(query_embedding, list):\n",
    "        query_embedding = np.array(query_embedding)\n",
    "\n",
    "    if isinstance(doc_embeddings, list):\n",
    "        doc_embeddings = np.array(doc_embeddings)\n",
    "\n",
    "    doc_embeddings = doc_embeddings / np.linalg.norm(doc_embeddings, axis=1, keepdims=True)\n",
    "    query_embedding = query_embedding / np.linalg.norm(query_embedding)\n",
    "\n",
    "    similarity_to_query = np.dot(doc_embeddings, query_embedding)\n",
    "    similarity_between_docs = np.dot(doc_embeddings, doc_embeddings.T)\n",
    "\n",
    "    selected = []\n",
    "    remaining = list(range(len(doc_embeddings)))\n",
    "\n",
    "    for _ in range(k):\n",
    "        if not remaining:\n",
    "            break\n",
    "\n",
    "        if not selected:\n",
    "            selected_idx = int(np.argmax(similarity_to_query))\n",
    "            selected.append(selected_idx)\n",
    "            remaining.remove(selected_idx)\n",
    "            continue\n",
    "\n",
    "        max_score = -np.inf\n",
    "        selected_idx = -1\n",
    "\n",
    "        for idx in remaining:\n",
    "            sim_to_query = similarity_to_query[idx]\n",
    "            sim_to_selected = max(similarity_between_docs[idx][j] for j in selected)\n",
    "            score = lambda_mult * sim_to_query - (1 - lambda_mult) * sim_to_selected\n",
    "\n",
    "            if score > max_score:\n",
    "                max_score = score\n",
    "                selected_idx = idx\n",
    "\n",
    "        selected.append(selected_idx)\n",
    "        remaining.remove(selected_idx)\n",
    "\n",
    "    return selected"
   ]
  },
  {
   "cell_type": "code",
   "execution_count": null,
   "metadata": {},
   "outputs": [],
   "source": [
    "from langchain_community.vectorstores.faiss import FAISS\n",
    "from langchain_core.documents import Document\n",
    "from typing import List\n",
    "import numpy as np\n",
    "\n",
    "def hybrid_mmr_retriever(\n",
    "    question: str,\n",
    "    vectorstore: FAISS,\n",
    "    embeddings,\n",
    "    top_k_sim: int = 15,  # Step 1: similarity로 후보 추출\n",
    "    top_k_final: int = 5,  # Step 2: 그중 MMR로 n개 선택\n",
    "    lambda_mult: float = 0.5\n",
    ") -> List[Document]:\n",
    "    \"\"\"\n",
    "    Hybrid MMR retriever:\n",
    "    1. top_k_sim 문서를 similarity로 먼저 추출하고\n",
    "    2. 그 중 top_k_final 문서를 MMR 방식으로 재선택\n",
    "    \"\"\"\n",
    "    query_embedding = embeddings.embed_query(question)\n",
    "\n",
    "    # Step 1: similarity 기반 top-k 후보 문서 가져오기\n",
    "    sim_docs_and_scores = vectorstore.similarity_search_with_score_by_vector(\n",
    "        query_embedding,\n",
    "        k=top_k_sim\n",
    "    )\n",
    "\n",
    "    docs = [doc for doc, _ in sim_docs_and_scores]\n",
    "    doc_embeddings = [embeddings.embed_query(doc.page_content) for doc in docs]\n",
    "\n",
    "    # Step 2: MMR 알고리즘 적용\n",
    "    selected_indices = maximal_marginal_relevance(\n",
    "        np.array(query_embedding),\n",
    "        np.array(doc_embeddings),\n",
    "        lambda_mult=lambda_mult,\n",
    "        k=top_k_final,\n",
    "    )\n",
    "\n",
    "    return [docs[i] for i in selected_indices]\n"
   ]
  },
  {
   "cell_type": "code",
   "execution_count": 16,
   "metadata": {},
   "outputs": [],
   "source": [
    "from langchain_core.prompts import PromptTemplate\n",
    "\n",
    "prompt = PromptTemplate.from_template(\"\"\"\n",
    "You are an assistant for answering questions about Korean government support policies.\n",
    "Use the following retrieved context to answer the user's question.\n",
    "If none of the relevant information is found in the context, say \"잘 모르겠습니다.\" Otherwise, do not include this phrase.\n",
    "\n",
    "When answering, try to include:\n",
    "- 지원대상 (who can apply)\n",
    "- 지역 또는 관할기관 (where this applies / which region or city is responsible)\n",
    "\n",
    "Use the following output format for each policy:\n",
    "\n",
    "사업명: ...\n",
    "요약: ...\n",
    "신청 URL 또는 문의처: ...\n",
    "\n",
    "- If the policy has a 신청 URL, include it as \"신청 URL: ...\"\n",
    "- If there is no URL, include the 문의처 (e.g., 전화번호 or 접수기관명) instead.\n",
    "\n",
    "Respond in Korean.\n",
    "\n",
    "# Context:\n",
    "{context}\n",
    "\n",
    "# Question:\n",
    "{question}\n",
    "\n",
    "# Answer:\n",
    "\"\"\")"
   ]
  },
  {
   "cell_type": "code",
   "execution_count": 17,
   "metadata": {},
   "outputs": [],
   "source": [
    "def format_markdown_response(text: str) -> str:\n",
    "    # 간단한 Markdown 후처리 예시\n",
    "    lines = text.strip().split(\"\\n\")\n",
    "    md_lines = []\n",
    "\n",
    "    for line in lines:\n",
    "        if line.startswith(\"사업명:\"):\n",
    "            md_lines.append(f\"**{line}**\")\n",
    "        elif line.startswith(\"요약:\"):\n",
    "            md_lines.append(f\"📍 {line}\")\n",
    "        elif line.startswith(\"신청 URL\"):\n",
    "            url = line.split(\":\", 1)[-1].strip()\n",
    "            md_lines.append(f\"🔗 [신청 바로가기]({url})\")\n",
    "        elif line.startswith(\"문의처:\"):\n",
    "            md_lines.append(f\"📞 {line}\")\n",
    "        else:\n",
    "            md_lines.append(line)\n",
    "\n",
    "    return \"\\n\\n\".join(md_lines)"
   ]
  },
  {
   "cell_type": "code",
   "execution_count": 18,
   "metadata": {},
   "outputs": [],
   "source": [
    "# LangSmith 트레이싱은 .env 설정만으로 자동 활성화됨\n",
    "# LANGSMITH_TRACING=true 설정 시 실행 로그를 LangSmith에서 확인 가능\n",
    "\n",
    "llm = ChatOpenAI(model_name=\"gpt-4o\", temperature=0)"
   ]
  },
  {
   "cell_type": "code",
   "execution_count": 19,
   "metadata": {},
   "outputs": [],
   "source": [
    "def hybrid_chain(question: str) -> str:\n",
    "    docs = hybrid_mmr_retriever(\n",
    "        question=question,\n",
    "        vectorstore=vectorstore,\n",
    "        embeddings=embeddings,\n",
    "        top_k_sim=15,\n",
    "        top_k_final=5,\n",
    "        lambda_mult=0.7\n",
    "    )\n",
    "    context = \"\\n\\n\".join([doc.page_content for doc in docs])\n",
    "    formatted_prompt = prompt.format(context=context, question=question)\n",
    "    response = llm.invoke(formatted_prompt)\n",
    "    answer = response.content if hasattr(response, \"content\") else response\n",
    "\n",
    "    markdown_result = format_markdown_response(answer)\n",
    "    return markdown_result\n"
   ]
  },
  {
   "cell_type": "code",
   "execution_count": 20,
   "metadata": {},
   "outputs": [],
   "source": [
    "# similarity 기반 retriever\n",
    "retriever_sim = vectorstore.as_retriever(\n",
    "    search_type=\"similarity\",\n",
    "    search_kwargs={\"k\": 5}\n",
    ")\n",
    "\n",
    "# mmr 기반 retriever\n",
    "retriever_mmr = vectorstore.as_retriever(\n",
    "    search_type=\"mmr\",\n",
    "    search_kwargs={\"k\": 5, \"lambda_mult\": 0.7}\n",
    ")"
   ]
  },
  {
   "cell_type": "code",
   "execution_count": 21,
   "metadata": {},
   "outputs": [],
   "source": [
    "from langchain_core.runnables import RunnableLambda\n",
    "\n",
    "# 후처리 Runnable 래핑\n",
    "markdown_formatter = RunnableLambda(format_markdown_response)\n",
    "\n",
    "# 체인 구성\n",
    "chain_sim = (\n",
    "    {\"context\": retriever_sim, \"question\": RunnablePassthrough()}\n",
    "    | prompt\n",
    "    | llm\n",
    "    | StrOutputParser()\n",
    "    | markdown_formatter  \n",
    ")\n",
    "\n",
    "chain_mmr = (\n",
    "    {\"context\": retriever_mmr, \"question\": RunnablePassthrough()}\n",
    "    | prompt\n",
    "    | llm\n",
    "    | StrOutputParser()\n",
    "    | markdown_formatter  \n",
    ")\n"
   ]
  },
  {
   "cell_type": "markdown",
   "metadata": {},
   "source": [
    "## TEST"
   ]
  },
  {
   "cell_type": "code",
   "execution_count": 22,
   "metadata": {},
   "outputs": [],
   "source": [
    "def compare_retrievers(question: str):\n",
    "    print(f\"\\n❓ 질문: {question}\")\n",
    "    \n",
    "    # --- similarity 체인 실행 ---\n",
    "    response_sim = chain_sim.invoke(question)\n",
    "    print(\"\\n🔹 similarity 방식 응답:\\n\", response_sim)\n",
    "\n",
    "    # --- mmr 체인 실행 ---\n",
    "    response_mmr = chain_mmr.invoke(question)\n",
    "    print(\"\\n🔸 mmr 방식 응답:\\n\", response_mmr)\n",
    "\n",
    "    # --- hybrid mmr 체인 실행 ---\n",
    "    response_hybrid = hybrid_chain(question)\n",
    "    print(\"\\n🌀 hybrid MMR 방식 응답:\\n\", response_hybrid)\n"
   ]
  },
  {
   "cell_type": "code",
   "execution_count": 23,
   "metadata": {},
   "outputs": [
    {
     "name": "stdout",
     "output_type": "stream",
     "text": [
      "\n",
      "❓ 질문: 현재 구직 중인 청년이 신청할 수 있는 정부 지원 정책이 뭐가 있어?\n",
      "\n",
      "🔹 similarity 방식 응답:\n",
      " **사업명: 청년 취업활동수당  **\n",
      "\n",
      "📍 요약: 영광군에 거주하는 만 18세부터 45세까지의 미취업 청년에게 매월 50만원씩 최대 6개월 동안 취업활동 수당을 지원합니다.  \n",
      "\n",
      "지원대상: 영광군 거주, 만 18세∼45세, 가구소득인정액이 기준중위소득 150% 이하인 미취업 청년  \n",
      "\n",
      "지역 또는 관할기관: 전라남도 영광군  \n",
      "\n",
      "🔗 [신청 바로가기]([정부24](https://www.gov.kr/portal/rcvfvrSvc/dtlEx/497000000108))\n",
      "\n",
      "📞 문의처: 인구교육정책실/061-350-5197  \n",
      "\n",
      "\n",
      "\n",
      "**사업명: 청년 취업지원 희망프로젝트  **\n",
      "\n",
      "📍 요약: 제주특별자치도 내 중소기업이 15세~39세 이하의 미취업 청년을 채용할 경우, 인건비 일부를 지원합니다.  \n",
      "\n",
      "지원대상: 15세~39세 이하 미취업청년을 채용한 도내 중소기업  \n",
      "\n",
      "지역 또는 관할기관: 제주특별자치도  \n",
      "\n",
      "🔗 [신청 바로가기]([정부24](https://www.gov.kr/portal/rcvfvrSvc/dtlEx/650000000317))\n",
      "\n",
      "📞 문의처: 경제일자리과/064-710-3795, 064-710-3797\n",
      "\n",
      "🔸 mmr 방식 응답:\n",
      " **사업명: 청년 취업활동수당  **\n",
      "\n",
      "📍 요약: 영광군에 거주하는 만 18세∼45세의 미취업 청년으로, 가구소득인정액이 기준중위소득 150% 이하인 경우 매월 50만원씩 최대 6개월 동안 취업활동 수당을 지원받을 수 있습니다.  \n",
      "\n",
      "🔗 [신청 바로가기]([정부24](https://www.gov.kr/portal/rcvfvrSvc/dtlEx/497000000108))\n",
      "\n",
      "\n",
      "\n",
      "**사업명: 청년 공공근로 지원  **\n",
      "\n",
      "📍 요약: 서천군에 거주하는 만 18세 이상의 주민으로, 기준 중위소득 70% 이하이면서 재산 4억원 이하인 근로능력이 있는 청년은 공공기관 행정사무 보조 인력으로 채용될 수 있습니다.  \n",
      "\n",
      "📞 문의처: 서천군 투자활력과 일자리지원팀/041-950-4123  \n",
      "\n",
      "\n",
      "\n",
      "**사업명: 청년이어드림지원금  **\n",
      "\n",
      "📍 요약: 제주특별자치도에 주소지를 둔 만 19세∼39세의 청년이 정책상담을 완료하면 지역화폐로 지원금을 받을 수 있습니다.  \n",
      "\n",
      "🔗 [신청 바로가기]([정부24](https://www.gov.kr/portal/rcvfvrSvc/dtlEx/650000001112))\n",
      "\n",
      "\n",
      "\n",
      "**사업명: 청년 정책 활성화 지원  **\n",
      "\n",
      "📍 요약: 인천광역시 동구에 거주하는 만 19세∼39세의 청년 구직자는 취업활동에 필요한 사진촬영비 및 이미용비를 지원받을 수 있습니다.  \n",
      "\n",
      "📞 문의처: 일자리경제과/032-770-6653\n",
      "\n",
      "🌀 hybrid MMR 방식 응답:\n",
      " **사업명: 청년 취업활동수당  **\n",
      "\n",
      "📍 요약: 영광군에 거주하는 만 18세∼45세의 미취업 청년에게 매월 50만원씩 최대 6개월 동안 취업활동 수당을 지원합니다.  \n",
      "\n",
      "🔗 [신청 바로가기]([정부24 온라인 신청](https://www.gov.kr/portal/rcvfvrSvc/dtlEx/497000000108))\n",
      "\n",
      "📞 문의처: 인구교육정책실/061-350-5197  \n",
      "\n",
      "\n",
      "\n",
      "**사업명: 청년 공공근로 지원  **\n",
      "\n",
      "📍 요약: 서천군에 거주하는 18세 이상의 기준 중위소득 70% 이하인 청년에게 공공기관 행정사무 보조 인력으로 채용 기회를 제공합니다.  \n",
      "\n",
      "📞 문의처: 서천군 투자활력과 일자리지원팀/041-950-4123  \n",
      "\n",
      "\n",
      "\n",
      "**사업명: 청년이어드림지원금  **\n",
      "\n",
      "📍 요약: 제주특별자치도에 주소지를 둔 19~39세 청년에게 정책 코디네이팅을 통해 지역화폐를 지급합니다.  \n",
      "\n",
      "🔗 [신청 바로가기]([정부24 온라인 신청](https://www.gov.kr/portal/rcvfvrSvc/dtlEx/650000001112))\n",
      "\n",
      "📞 문의처: 제주특별자치도 청년정책담당관/064-710-3872  \n",
      "\n",
      "\n",
      "\n",
      "**사업명: 청년 정책 활성화 지원  **\n",
      "\n",
      "📍 요약: 인천광역시 동구에 거주하는 만 19세~39세 청년 구직자에게 취업활동에 필요한 사진촬영비 및 이미용비를 지원합니다.  \n",
      "\n",
      "📞 문의처: 일자리경제과/032-770-6653\n"
     ]
    }
   ],
   "source": [
    "compare_retrievers(\"현재 구직 중인 청년이 신청할 수 있는 정부 지원 정책이 뭐가 있어?\")"
   ]
  },
  {
   "cell_type": "code",
   "execution_count": 72,
   "metadata": {},
   "outputs": [
    {
     "name": "stdout",
     "output_type": "stream",
     "text": [
      "\n",
      "❓ 질문: 3세 이하의 자녀가 있는데 지원가능한 정부지원사업 알려줘\n",
      "\n",
      "🔹 similarity 방식 응답:\n",
      " 사업명: 둘째이후 자녀 보육료 지원  \n",
      "요약: 통영시에 부모와 함께 3개월 이상 계속하여 주민등록이 되어 있고 실제 거주하는 둘째 이후 자녀를 둔 가정에 보육료를 지원합니다. 1세부터 3세까지의 자녀에 대해 기본보육료 지원단가의 80%에서 정부지원금액을 차감한 차액을 지원합니다.  \n",
      "지원대상: 통영시에 부모와 함께 3개월 이상 계속하여 주민등록이 되어 있고 실제 거주하는 둘째 이후 자녀를 둔 부 또는 모  \n",
      "지역 또는 관할기관: 경상남도 통영시  \n",
      "신청 URL 또는 문의처: 여성가족과/055-650-4633  \n",
      "\n",
      "사업명: 법정저소득·셋째아 필요경비 지원  \n",
      "요약: 경기도 안양시 관내 어린이집에 재원 중인 만 5세 이하의 법정저소득 및 셋째아 이상 아동에게 특별활동비 및 현장학습비를 지원합니다.  \n",
      "지원대상: 만0~5세 어린이집 재원 중인 법정저소득 및 셋째아 이상 아동  \n",
      "지역 또는 관할기관: 경기도 안양시  \n",
      "신청 URL 또는 문의처: 안양시청 여성가족과/031-8045-5588  \n",
      "\n",
      "잘 모르겠습니다.\n",
      "\n",
      "🔸 mmr 방식 응답:\n",
      " 잘 모르겠습니다.\n",
      "\n",
      "🌀 hybrid MMR 방식 응답:\n",
      " 사업명: 만3~5세 부모부담보육료 지원\n",
      "요약: 만3~5세 아동이 민간, 가정, 정부미지원 사회복지법인, 협동 및 법인, 단체어린이집, 공공형어린이집에 재원 중일 경우, 어린이집 보육료 수압액과 정부지원 보육료의 차액을 지원합니다. 매월 74,000원 ~ 90,000원이 지원됩니다.\n",
      "신청 URL 또는 문의처: 영천시 가족행복과/054-330-6213\n",
      "\n",
      "사업명: 둘째이후 자녀 보육료 지원\n",
      "요약: 통영시에 부모와 함께 3개월 이상 계속하여 주민등록이 되어 있고 실제 거주하는 둘째 이후 자녀를 둔 가정에 대해 보육료를 지원합니다. 1세(2023년생) 자녀의 경우 280,000원, 2세(2022년생) 자녀의 경우 215,200원, 3세(2021년생) 자녀의 경우 124,000원을 지원합니다.\n",
      "신청 URL 또는 문의처: 여성가족과/055-650-4633\n",
      "\n",
      "잘 모르겠습니다.\n"
     ]
    }
   ],
   "source": [
    "compare_retrievers(\"3세 이하의 자녀가 있는데 지원가능한 정부지원사업 알려줘\")"
   ]
  },
  {
   "cell_type": "code",
   "execution_count": 90,
   "metadata": {},
   "outputs": [
    {
     "name": "stdout",
     "output_type": "stream",
     "text": [
      "\n",
      "❓ 질문: 아직 유치원을 가지않은 자녀가 있는데 지원가능한 정부지원사업 알려줘\n",
      "\n",
      "🔹 similarity 방식 응답:\n",
      " **사업명: 어린이집·유치원 신입생 입학준비금 지원  **\n",
      "\n",
      "📍 요약: 어린이집·유치원에 최초 입학하는 영유아 가정에 입학준비금 10만원을 지원합니다.  \n",
      "\n",
      "지원대상: 입학일 기준 부모 또는 보호자와 함께 수영구에 주소를 두고 2022. 1. 1 이후 어린이집·유치원에 최초 입학하는 영유아. 가정양육에서 최초로 어린이집 또는 유치원으로 변경된 경우에만 지원 가능합니다.  \n",
      "\n",
      "지역 또는 관할기관: 부산광역시 수영구  \n",
      "\n",
      "🔗 [신청 바로가기](수영구청 가족행복과/051-610-4326)\n",
      "\n",
      "상세조회URL: [https://www.gov.kr/portal/rcvfvrSvc/dtlEx/338000000122](https://www.gov.kr/portal/rcvfvrSvc/dtlEx/338000000122)  \n",
      "\n",
      "\n",
      "\n",
      "**사업명: 거제시 유치원생 및 초등학생 입학축하금 지원  **\n",
      "\n",
      "📍 요약: 거제시에 주소를 두고 유치원 및 초등학교에 최초 입학하는 아동의 가정에 입학축하금을 지원합니다.  \n",
      "\n",
      "지원대상: 입학일 기준 거제시에 주소를 두고 유치원 및 초등학교에 최초 입학하는 학생.  \n",
      "\n",
      "지역 또는 관할기관: 경상남도 거제시  \n",
      "\n",
      "🔗 [신청 바로가기](거제시 평생교육과/055-639-3854)\n",
      "\n",
      "상세조회URL: [https://www.gov.kr/portal/rcvfvrSvc/dtlEx/537000001435](https://www.gov.kr/portal/rcvfvrSvc/dtlEx/537000001435)\n",
      "\n",
      "🔸 mmr 방식 응답:\n",
      " **사업명: 외국국적 유아학비 지원**\n",
      "\n",
      "📍 요약: 공·사립 유치원에 재원 중인 외국국적 3~5세 유아에게 학비를 지원하는 사업입니다.\n",
      "\n",
      "지원대상: 공·사립 유치원에 재원 중인 외국국적 3~5세 유아\n",
      "\n",
      "지역 또는 관할기관: 전라남도\n",
      "\n",
      "🔗 [신청 바로가기](문의전화: 유초등교육과/061-260-0396)\n",
      "\n",
      "\n",
      "\n",
      "**사업명: 거제시 유치원생 및 초등학생 입학축하금 지원**\n",
      "\n",
      "📍 요약: 거제시에 주소를 두고 유치원 및 초등학교에 최초 입학하는 아동의 가정에 입학축하금을 지원합니다.\n",
      "\n",
      "지원대상: 입학일 기준 거제시에 주소를 두고 유치원 및 초등학교에 최초 입학하는 학생\n",
      "\n",
      "지역 또는 관할기관: 경상남도 거제시\n",
      "\n",
      "🔗 [신청 바로가기](신청 URL: https://www.gov.kr/portal/rcvfvrSvc/dtlEx/537000001435)\n",
      "\n",
      "🌀 hybrid MMR 방식 응답:\n",
      " **사업명: 어린이집 입학준비금 지원  **\n",
      "\n",
      "📍 요약: 강원특별자치도에 주소를 두고 어린이집에 신규 입소한 아동 중 저소득층, 다문화보육료 지원아동, 장애아보육료 지원아동, 자녀가 2명 이상인 가구의 둘째 아 이상 아동, 부모 중 1명 이상이 장애인인 아동에게 입학준비금을 지원합니다.  \n",
      "\n",
      "🔗 [신청 바로가기](문의전화: 복지정책과/033-249-2277)\n",
      "\n",
      "\n",
      "\n",
      "**사업명: 외국국적 유아학비 지원  **\n",
      "\n",
      "📍 요약: 전라남도에 있는 공·사립 유치원에 재원 중인 외국국적 3~5세 유아에게 학비를 지원합니다.  \n",
      "\n",
      "🔗 [신청 바로가기](문의전화: 유초등교육과/061-260-0396)\n",
      "\n",
      "\n",
      "\n",
      "**사업명: 거제시 유치원생 및 초등학생 입학축하금 지원  **\n",
      "\n",
      "📍 요약: 거제시에 주소를 두고 유치원에 최초 입학하는 아동의 가정에 입학축하금을 지원합니다.  \n",
      "\n",
      "🔗 [신청 바로가기](신청 URL: https://www.gov.kr/portal/rcvfvrSvc/dtlEx/537000001435)\n"
     ]
    }
   ],
   "source": [
    "compare_retrievers(\"아직 유치원을 가지않은 자녀가 있는데 지원가능한 정부지원사업 알려줘\")"
   ]
  }
 ],
 "metadata": {
  "kernelspec": {
   "display_name": "langchain-env",
   "language": "python",
   "name": "python3"
  },
  "language_info": {
   "codemirror_mode": {
    "name": "ipython",
    "version": 3
   },
   "file_extension": ".py",
   "mimetype": "text/x-python",
   "name": "python",
   "nbconvert_exporter": "python",
   "pygments_lexer": "ipython3",
   "version": "3.11.11"
  }
 },
 "nbformat": 4,
 "nbformat_minor": 2
}
