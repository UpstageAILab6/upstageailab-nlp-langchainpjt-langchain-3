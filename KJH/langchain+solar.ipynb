{
 "cells": [
  {
   "cell_type": "markdown",
   "metadata": {},
   "source": [
    "# 전체 구조 요약\n",
    "1. 문서 로드 (JSON, TXT 등)\n",
    "2. 청크 분할 (TextSplitter)\n",
    "3. 임베딩 (Upstage Embedding 사용) + 벡터 저장소 (FAISS)\n",
    "4. 질문 입력 → 유사 문서 검색\n",
    "5. LLM에게 prompt 생성 → 답변 출력"
   ]
  },
  {
   "cell_type": "markdown",
   "metadata": {},
   "source": [
    "## 1. 문서 로드\n",
    "### json 경로 설정"
   ]
  },
  {
   "cell_type": "code",
   "execution_count": 42,
   "metadata": {},
   "outputs": [],
   "source": [
    "import os\n",
    "\n",
    "\n",
    "# 경로 설정\n",
    "BASE_DIR = os.getcwd()\n",
    "DATA_DIR = os.path.join(BASE_DIR, \"../EDA/data\")\n",
    "data_path = os.path.join(DATA_DIR, \"combined_service_data_merged.json\")\n",
    "prev_path = os.path.join(DATA_DIR, \"combined_service_data_merged_prev.json\")"
   ]
  },
  {
   "cell_type": "code",
   "execution_count": 43,
   "metadata": {},
   "outputs": [
    {
     "name": "stdout",
     "output_type": "stream",
     "text": [
      "📦 전체 서비스 개수: 8850개\n"
     ]
    }
   ],
   "source": [
    "import json\n",
    "from pathlib import Path\n",
    "\n",
    "# JSON 로드 및 개수 출력\n",
    "with open(data_path, \"r\", encoding=\"utf-8\") as f:\n",
    "    data = json.load(f)\n",
    "\n",
    "print(f\"📦 전체 서비스 개수: {len(data)}개\")\n"
   ]
  },
  {
   "cell_type": "markdown",
   "metadata": {},
   "source": [
    "### json 파일 불러와서 langchain 문서로 변환"
   ]
  },
  {
   "cell_type": "code",
   "execution_count": 44,
   "metadata": {},
   "outputs": [
    {
     "name": "stdout",
     "output_type": "stream",
     "text": [
      "🆕 추가된 문서: 0개\n",
      "🔄 수정된 문서: 0개\n",
      "❌ 삭제된 문서: 0개\n",
      "✅ LangChain 문서 생성 완료: 0개\n"
     ]
    }
   ],
   "source": [
    "import json\n",
    "import shutil\n",
    "from langchain.docstore.document import Document\n",
    "\n",
    "# 🔹 JSON 로드 (new)\n",
    "with open(data_path, \"r\", encoding=\"utf-8\") as f:\n",
    "    new_data = json.load(f)\n",
    "new_dict = {item[\"서비스ID\"]: item for item in new_data}\n",
    "\n",
    "# 🔹 JSON 로드 (prev)\n",
    "if os.path.exists(prev_path):\n",
    "    with open(prev_path, \"r\", encoding=\"utf-8\") as f:\n",
    "        prev_data = json.load(f)\n",
    "    prev_dict = {item[\"서비스ID\"]: item for item in prev_data}\n",
    "else:\n",
    "    prev_data = []\n",
    "    prev_dict = {}\n",
    "\n",
    "    \n",
    "# 변경 감지\n",
    "added, updated, deleted = [], [], []\n",
    "\n",
    "# new_dict의 모든 서비스ID(sid)와 해당 데이터(item)에 대해 반복\n",
    "for sid, item in new_dict.items():\n",
    "    # 이전 데이터(prev_dict)에 현재 서비스ID가 없으면 → 신규 추가된 항목으로 간주\n",
    "    if sid not in prev_dict:\n",
    "        added.append(item)  # 추가 목록에 포함\n",
    "    # 이전에도 존재했지만 내용이 다른 경우 → 수정된 항목으로 간주\n",
    "    elif json.dumps(item, sort_keys=True, ensure_ascii=False) != json.dumps(prev_dict[sid], sort_keys=True, ensure_ascii=False):\n",
    "        updated.append(item)  # 수정 목록에 포함\n",
    "\n",
    "# 이전 데이터(prev_dict)에만 있고 현재 데이터(new_dict)에는 없는 서비스ID를 찾음\n",
    "for sid in prev_dict:\n",
    "    # 현재 데이터에 존재하지 않으면 → 삭제된 것으로 간주\n",
    "    if sid not in new_dict:\n",
    "        deleted.append(prev_dict[sid])  # 삭제 목록에 포함\n",
    "\n",
    "\n",
    "print(f\"🆕 추가된 문서: {len(added)}개\")\n",
    "print(f\"🔄 수정된 문서: {len(updated)}개\")\n",
    "print(f\"❌ 삭제된 문서: {len(deleted)}개\")\n",
    "\n",
    "# ✅ 임베딩 대상: 추가 + 수정 문서만\n",
    "target_docs = added + updated\n",
    "\n",
    "# LangChain 문서 변환\n",
    "documents = []\n",
    "for item in target_docs:\n",
    "    조건_태그 = [k for k, v in item.get(\"조건\", {}).items() if v]\n",
    "\n",
    "    content = f\"\"\"\n",
    "서비스명: {item.get('서비스명')}\n",
    "서비스목적: {item.get('서비스목적')}\n",
    "지원대상: {item.get('지원대상')}\n",
    "지원내용: {item.get('지원내용')}\n",
    "신청방법: {item.get('신청방법')}\n",
    "신청기한: {item.get('신청기한')}\n",
    "선정기준: {item.get('선정기준')}\n",
    "구비서류: {item.get('구비서류')}\n",
    "소관기관: {item.get('소관기관명')}\n",
    "문의처: {item.get('문의처')}\n",
    "온라인신청URL: {item.get('온라인신청사이트URL')}\n",
    "법령: {item.get('법령')}\n",
    "해당 조건: {', '.join(조건_태그)}\n",
    "\"\"\"\n",
    "\n",
    "    doc = Document(\n",
    "        page_content=content.strip(),\n",
    "        metadata={\n",
    "            \"서비스ID\": item.get(\"서비스ID\"),\n",
    "            \"서비스명\": item.get(\"서비스명\"),\n",
    "            \"조건\": item.get(\"조건\", {}),\n",
    "            \"원본\": item\n",
    "        }\n",
    "    )\n",
    "    documents.append(doc)\n",
    "\n",
    "print(f\"✅ LangChain 문서 생성 완료: {len(documents)}개\")\n",
    "if documents:\n",
    "    print(\"🔍 예시 문서 내용:\\n\", documents[0].page_content[:3000])"
   ]
  },
  {
   "cell_type": "code",
   "execution_count": 45,
   "metadata": {},
   "outputs": [
    {
     "name": "stdout",
     "output_type": "stream",
     "text": [
      "✅ new_data 개수: 8850\n",
      "✅ prev_data 개수: 8850\n"
     ]
    }
   ],
   "source": [
    "print(\"✅ new_data 개수:\", len(new_data))\n",
    "print(\"✅ prev_data 개수:\", len(prev_data))"
   ]
  },
  {
   "cell_type": "markdown",
   "metadata": {},
   "source": [
    "## 2. 청크 분할\n",
    "문자수 기반과 토큰 기반으로 나뉘는데 둘 중 하나만 돌릴 것.\n",
    "문장 단위 의미 보존이 더 중요하다 판단되면 문자수 기반 / 비용 정확도, 입력 제한 관리 중요하다 판단되면 토큰 기반\n",
    "\n",
    "### 문자수 기반 청크 분할\n",
    "chunk_size=500 → 청크 하나의 page_content 길이가 최대 500자로 제한됨\n",
    "\n",
    "chunk_overlap=100 → 이전 청크 끝 100자 → 다음 청크 시작에 겹쳐서 들어감\n",
    "\n",
    "Recursive → 줄바꿈(\\n) → 띄어쓰기( ) → 아무 데서나 (\"\") 순서로 분할 시도\n",
    "→ 가능한 한 문장 단위 또는 문단 단위로 끊으려 노력함"
   ]
  },
  {
   "cell_type": "code",
   "execution_count": 46,
   "metadata": {},
   "outputs": [
    {
     "name": "stdout",
     "output_type": "stream",
     "text": [
      "⚠️ 문서 내용에 변화가 없어 청크가 생성되지 않았습니다.\n"
     ]
    }
   ],
   "source": [
    "from langchain.text_splitter import RecursiveCharacterTextSplitter  # 문자 기반 텍스트 분할기 import\n",
    "\n",
    "# 문자 수 기반으로 텍스트 청크 분할기 정의\n",
    "text_splitter = RecursiveCharacterTextSplitter(\n",
    "    chunk_size=500,       # 각 청크의 최대 문자 수\n",
    "    chunk_overlap=100     # 청크 간 중복 문자 수 (문맥 유지를 위해 사용)\n",
    ")\n",
    "\n",
    "# 기존에 만든 LangChain 문서 리스트 (`documents`)에 대해 분할 수행\n",
    "split_docs = text_splitter.split_documents(documents)  # 각 Document의 page_content를 기준으로 분할\n",
    "\n",
    "# 결과 확인\n",
    "if split_docs:\n",
    "    print(f\"✅ 전체 청크 수: {len(split_docs)}\")\n",
    "    print(\"🔍 첫 번째 청크 예시:\\n\", split_docs[0].page_content)\n",
    "else:\n",
    "    print(\"⚠️ 문서 내용에 변화가 없어 청크가 생성되지 않았습니다.\")\n"
   ]
  },
  {
   "cell_type": "markdown",
   "metadata": {},
   "source": [
    "### 토큰 기반 청크 분할\n",
    "chunk_size: 각 문서를 몇 토큰 단위로 나눌지 결정하는 가장 중요한 파라미터.\n",
    "\n",
    "chunk_overlap: 다음 청크가 이전 청크의 마지막 일부를 포함하게 해서 문맥을 자연스럽게 이어주기 위한 장치.\n",
    "\n",
    "cl100k_base: OpenAI의 최신 모델에서 사용하는 토크나이저. Solar의 임베딩과 토큰 구조가 유사하다고 알려져 있음."
   ]
  },
  {
   "cell_type": "code",
   "execution_count": 47,
   "metadata": {},
   "outputs": [
    {
     "name": "stdout",
     "output_type": "stream",
     "text": [
      "⚠️ 문서 내용에 변화가 없어 토큰 청크가 생성되지 않았습니다.\n"
     ]
    }
   ],
   "source": [
    "from langchain.text_splitter import TokenTextSplitter  # 토큰 기반 텍스트 분할기\n",
    "from langchain_openai import OpenAIEmbeddings  # 임베딩 모델 (토크나이저 공유)\n",
    "\n",
    "# OpenAI 기준: text-embedding-ada-002는 max 8191 tokens\n",
    "# 안전하게 512 ~ 1024 단위로 청크 나누는 게 일반적\n",
    "token_splitter = TokenTextSplitter(\n",
    "    chunk_size=1000,        # 한 청크당 최대 토큰 수\n",
    "    chunk_overlap=150       # 중복 토큰 수 (문맥 유지용) chunk_overlap 기술 적용\n",
    ")\n",
    "\n",
    "# 문서 리스트 분할\n",
    "token_split_docs = token_splitter.split_documents(documents)\n",
    "\n",
    "# 결과 확인\n",
    "if token_split_docs:\n",
    "    print(f\"✅ 토큰 기반 청크 수: {len(token_split_docs)}\")\n",
    "    print(\"🔍 예시 청크:\\n\", token_split_docs[0].page_content)\n",
    "else:\n",
    "    print(\"⚠️ 문서 내용에 변화가 없어 토큰 청크가 생성되지 않았습니다.\")"
   ]
  },
  {
   "cell_type": "markdown",
   "metadata": {},
   "source": [
    "### Solar Embedding 비용 계산 코드"
   ]
  },
  {
   "cell_type": "code",
   "execution_count": 48,
   "metadata": {},
   "outputs": [
    {
     "name": "stderr",
     "output_type": "stream",
     "text": [
      "🔍 토큰 수 계산 중: 0it [00:00, ?it/s]"
     ]
    },
    {
     "name": "stdout",
     "output_type": "stream",
     "text": [
      "\n",
      "📊 총 청크 수: 0\n",
      "🔢 총 토큰 수: 0 tokens\n",
      "💵 예상 비용: $0.0000 USD\n",
      "💰 예상 비용: 약 0원 (환율: 1350원/USD)\n"
     ]
    },
    {
     "name": "stderr",
     "output_type": "stream",
     "text": [
      "\n"
     ]
    }
   ],
   "source": [
    "import tiktoken  # 토큰 계산용\n",
    "from tqdm import tqdm\n",
    "\n",
    "# 1. 토크나이저 로드 (Solar는 cl100k_base 계열과 거의 동일)\n",
    "tokenizer = tiktoken.get_encoding(\"cl100k_base\")\n",
    "\n",
    "# 2. 전체 토큰 수 계산\n",
    "total_tokens = 0\n",
    "for doc in tqdm(token_split_docs, desc=\"🔍 토큰 수 계산 중\"):       # 계산하고 싶은 청크\n",
    "    tokens = tokenizer.encode(doc.page_content)\n",
    "    total_tokens += len(tokens)\n",
    "\n",
    "# 3. Solar 실제 요율 기준 단가 설정 (1,000 tokens = $0.0000973)\n",
    "usd_per_1000_tokens = 0.0000973\n",
    "estimated_cost_usd = (total_tokens / 1000) * usd_per_1000_tokens\n",
    "\n",
    "# 4. 한화 환율로 변환 (예: 1 USD = 1350원 가정)\n",
    "exchange_rate = 1350\n",
    "estimated_cost_krw = estimated_cost_usd * exchange_rate\n",
    "\n",
    "# 5. 결과 출력\n",
    "print(f\"\\n📊 총 청크 수: {len(token_split_docs)}\")\n",
    "print(f\"🔢 총 토큰 수: {total_tokens:,} tokens\")\n",
    "print(f\"💵 예상 비용: ${estimated_cost_usd:.4f} USD\")\n",
    "print(f\"💰 예상 비용: 약 {estimated_cost_krw:,.0f}원 (환율: {exchange_rate}원/USD)\")\n"
   ]
  },
  {
   "cell_type": "markdown",
   "metadata": {},
   "source": [
    "## 3. 임베딩 (Upstage Embedding 사용) + 벡터 저장소 (FAISS)\n",
    "### API 가져오기"
   ]
  },
  {
   "cell_type": "code",
   "execution_count": 49,
   "metadata": {},
   "outputs": [
    {
     "name": "stdout",
     "output_type": "stream",
     "text": [
      "🔐 API KEY: 불러옴\n",
      "🌐 API URL: https://api.upstage.ai/v1/embeddings\n",
      "📁 base_dir: c:\\Users\\jihu6\\code\\RAG\n"
     ]
    }
   ],
   "source": [
    "from dotenv import load_dotenv\n",
    "import os\n",
    "\n",
    "# ✅ RAG/.env 경로를 직접 지정\n",
    "base_dir = os.path.abspath(os.path.join(os.getcwd(), \"..\"))  # 현재 디렉토리의 부모(RAG)\n",
    "env_path = os.path.join(base_dir, \".env\")  # RAG/.env\n",
    "\n",
    "load_dotenv(dotenv_path=env_path)\n",
    "\n",
    "# ✅ 환경변수 불러오기\n",
    "UPSTAGE_API_KEY = os.getenv(\"UPSTAGE_API_KEY\")\n",
    "UPSTAGE_API_URL = os.getenv(\"UPSTAGE_API_URL\")\n",
    "\n",
    "# ✅ 결과 확인\n",
    "print(\"🔐 API KEY:\", \"불러옴\" if UPSTAGE_API_KEY else \"❌ 없음\")\n",
    "print(\"🌐 API URL:\", UPSTAGE_API_URL if UPSTAGE_API_URL else \"❌ 없음\")\n",
    "print(\"📁 base_dir:\", base_dir)\n"
   ]
  },
  {
   "cell_type": "markdown",
   "metadata": {},
   "source": [
    "### SOLAR API로 임베딩 + FAISS에 벡터 저장"
   ]
  },
  {
   "cell_type": "code",
   "execution_count": 51,
   "metadata": {},
   "outputs": [],
   "source": [
    "from tqdm import tqdm  # 진행률 표시용 라이브러리\n",
    "import time  # 요청 간 간격 조정용 (선택)\n",
    "import requests\n",
    "from langchain_core.embeddings import Embeddings\n",
    "from typing import List\n",
    "\n",
    "class UpstageEmbeddings(Embeddings):\n",
    "    def __init__(self, api_key: str, api_url: str, batch_size: int = 64):\n",
    "        self.api_key = api_key  # API 키 저장\n",
    "        self.api_url = api_url  # 요청 보낼 URL 저장\n",
    "        self.batch_size = batch_size  # 한 번에 보낼 텍스트 개수\n",
    "\n",
    "    def embed_documents(self, texts: List[str]) -> List[List[float]]:\n",
    "        headers = {\n",
    "            \"Authorization\": f\"Bearer {self.api_key}\",\n",
    "            \"Content-Type\": \"application/json\"\n",
    "        }\n",
    "\n",
    "        all_embeddings = []\n",
    "\n",
    "        for i in tqdm(range(0, len(texts), self.batch_size), desc=\"🔄 Solar 임베딩 중\"):\n",
    "            batch = texts[i:i + self.batch_size]\n",
    "\n",
    "            # 👇 디버깅용: 문자열 아닌 항목 검사\n",
    "            if not all(isinstance(t, str) for t in batch):\n",
    "                print(\"❗문자열이 아닌 데이터가 포함됨:\")\n",
    "                for t in batch:\n",
    "                    print(type(t), \"→\", repr(t)[:100])\n",
    "\n",
    "            # ✅ Solar API에 필요한 model 필드 추가!\n",
    "            payload = {\n",
    "                \"input\": batch,\n",
    "                \"model\": \"embedding-query\"  # 반드시 포함되어야 함\n",
    "            }\n",
    "\n",
    "            response = requests.post(self.api_url, headers=headers, json=payload)\n",
    "\n",
    "            # 에러 출력\n",
    "            if response.status_code != 200:\n",
    "                print(\"❌ 에러 응답 상태:\", response.status_code)\n",
    "                print(\"❌ 에러 응답 본문:\", response.text)\n",
    "\n",
    "            response.raise_for_status()\n",
    "            result = response.json()\n",
    "            all_embeddings.extend([item[\"embedding\"] for item in result[\"data\"]])\n",
    "            time.sleep(0.1)  # 요청 너무 빠르게 보내지 않도록 딜레이\n",
    "\n",
    "        return all_embeddings\n",
    "\n",
    "    def embed_query(self, text: str) -> List[float]:\n",
    "        return self.embed_documents([text])[0]\n"
   ]
  },
  {
   "cell_type": "code",
   "execution_count": 52,
   "metadata": {},
   "outputs": [
    {
     "name": "stdout",
     "output_type": "stream",
     "text": [
      "⚠️ 임베딩할 문서가 없어 FAISS 인덱스를 생성하지 않습니다.\n"
     ]
    }
   ],
   "source": [
    "# 🔹 FAISS 및 임베딩 클래스 임포트\n",
    "from langchain.vectorstores import FAISS\n",
    "\n",
    "# 🔹 Upstage 임베딩 객체 생성 (앞서 만든 사용자 정의 클래스 사용)\n",
    "embedding = UpstageEmbeddings(\n",
    "    api_key=UPSTAGE_API_KEY,  # .env에서 불러온 API 키\n",
    "    api_url=UPSTAGE_API_URL,  # .env에서 불러온 API URL\n",
    "    batch_size=64             # 한 번에 64개씩 처리\n",
    ")\n",
    "\n",
    "# 🔹 청크가 존재할 경우에만 FAISS 인덱스 생성 및 저장\n",
    "if token_split_docs:\n",
    "    db = FAISS.from_documents(token_split_docs, embedding)  # 문서 임베딩 후 FAISS 인덱스 생성\n",
    "    db.save_local(\"faiss_index\")  # 인덱스를 로컬 디렉토리에 저장\n",
    "    print(\"✅ FAISS 인덱스 저장 완료!\")\n",
    "else:\n",
    "    print(\"⚠️ 임베딩할 문서가 없어 FAISS 인덱스를 생성하지 않습니다.\")"
   ]
  },
  {
   "cell_type": "markdown",
   "metadata": {},
   "source": [
    "## 4. 질문 입력 → 유사 문서 검색"
   ]
  },
  {
   "cell_type": "markdown",
   "metadata": {},
   "source": [
    "### 벡터 데이터 베이스 로딩"
   ]
  },
  {
   "cell_type": "code",
   "execution_count": 53,
   "metadata": {},
   "outputs": [],
   "source": [
    "# ✅ allow_dangerous_deserialization=True 추가\n",
    "db = FAISS.load_local(\n",
    "    \"faiss_index\",\n",
    "    embeddings=embedding,\n",
    "    allow_dangerous_deserialization=True  # ✅ Pickle 로드 허용\n",
    ")"
   ]
  },
  {
   "cell_type": "markdown",
   "metadata": {},
   "source": [
    "### 검색할 질문 입력"
   ]
  },
  {
   "cell_type": "code",
   "execution_count": 54,
   "metadata": {},
   "outputs": [],
   "source": [
    "\n",
    "# 검색할 질문 예시\n",
    "query = \"청년이 받을 수 있는 주거 지원은 뭐가 있지?\""
   ]
  },
  {
   "cell_type": "markdown",
   "metadata": {},
   "source": [
    "### 유사 문서 검색"
   ]
  },
  {
   "cell_type": "code",
   "execution_count": 55,
   "metadata": {},
   "outputs": [
    {
     "name": "stderr",
     "output_type": "stream",
     "text": [
      "🔄 Solar 임베딩 중: 100%|██████████| 1/1 [00:01<00:00,  1.12s/it]\n"
     ]
    }
   ],
   "source": [
    "# 유사 문서 검색 (상위 3개)\n",
    "docs = db.similarity_search(query, k=3)"
   ]
  },
  {
   "cell_type": "markdown",
   "metadata": {},
   "source": [
    "#### 유사 문서 검색 결과 확인"
   ]
  },
  {
   "cell_type": "code",
   "execution_count": 56,
   "metadata": {},
   "outputs": [
    {
     "name": "stdout",
     "output_type": "stream",
     "text": [
      "📄 문서 1\n",
      "서비스명: 서울시 청년 월세 지원\n",
      "서비스목적: 청년층의 주거비 부담 완화를 통한 청년 주거 수준 향상으로 사회 진입을 돕고 생애 다음단계(내 집 마련, 결혼, 출산, 양육)로의 성장 지원\n",
      "지원대상: ○  서울 월세 거주 19세 ~ 39세 이하 무주택 청년 1인 가구 (청년인 동거인 및 형제자매 있는 경우 신청 가능)\n",
      "    - 소득 기준 : 기준 중위소득 150% 이하 \n",
      "    - 재산 기준 : 일반재산 1억 3천만원 이하, 자동차 2,500만원 미만\n",
      "    - 거주 요건 : 임차 보증금 8천만원 이하, 월세 60만원 이하 건물 월세 거주\n",
      "지원내용: ○ 사업 내용 : 최대 12개월 간 월 20만원 범위에서 월세 지원\n",
      "○ 소요재원 : 시비 100%\n",
      "신청방법: 서울주거포털 : https://housing.seoul.go.kr 청년월세지원란에 온라인 신청,접수\n",
      "신청기한: 2025.6월(예정)\n",
      "선정기준: None\n",
      "구비서류: 확정일자가 날인된 임대차계약서 사본 1부, 월세이체 증빙서류\n",
      "📌 조건 태그: 남성, 여성, 중위소득 0~50%, 중위소득 51~75%, 중위소득 76~100%, 중위소득 101~200%, 중위소득 200% 초과, 예비부모/난임, 임산부, 출산/입양, 농업인, 어업인, 축산업인, 임업인, 초등학생, 중학생, 고등학생, 대학생/대학원생, 해당사항없음, 근로자/직장인, 구직자/실업자, 장애인, 국가보훈대상자, 질병/질환자, 1인가구\n",
      "--------------------------------------------------\n",
      "📄 문서 2\n",
      "서비스명: 울산 청년가구 주거비 지원사업 지원 신청\n",
      "서비스목적: 임차료 등 주거비 지원으로 청년층의 주거안정 및 지역정착으로 결혼율 제고\n",
      "지원대상: - 19세~39세 무주택 미혼 청년가구 세대주 \n",
      "- 임차보증금 1억원이하 및 월세 50만원 이하인 주택 거주  \n",
      "- 기준 중위소득 150% 이하(건강보험료 납부 기준)\n",
      "지원내용: 월 임차료비용 10만원 실비지급\n",
      "월 임차보증금이자비용 5만원 실비지급\n",
      "※ 주거급여 수급자는 제외\n",
      "신청방법: 온라인신청 : https://www.ulsan.go.kr/s/house\n",
      "신청기한: 공고문 참조\n",
      "선정기준: None\n",
      "구비서류: □ 청년 주거비 지원사업 대상자 선정 신청서류\n",
      "\n",
      " ○ 신청인 제출서류\n",
      " -울산 청년가구 주거비 지원사업(신규, 변경) 신청서 \n",
      " -울산 청년가구 주거비 지원사업 신청 서약서 \n",
      " -개인정보 제공 동의서 \n",
      " -행정정보 공동이용 사전동의서\n",
      " -주택임대차계약서(확정일자 날인) 사본\n",
      " -주민등록 등본(주소변동 포함) \n",
      "\n",
      "📌 조건 태그: 남성, 여성, 중위소득 0~50%, 중위소득 51~75%, 중위소득 76~100%, 중위소득 101~200%, 예비부모/난임, 임산부, 출산/입양, 농업인, 어업인, 축산업인, 임업인, 초등학생, 중학생, 고등학생, 대학생/대학원생, 해당사항없음, 근로자/직장인, 구직자/실업자, 장애인, 국가보훈대상자, 질병/질환자, 무주택세대\n",
      "--------------------------------------------------\n",
      "📄 문서 3\n",
      "서비스명: 행복주택 공급\n",
      "서비스목적: 만19~39세 청년, (예비)신혼부부, 한부모가족, 대학생 등 젊은층의 주거안정을 위하여 대중교통이 편리하거나 직주근접이 가능한 부지에 주변 시세보다 저렴하게 공급\n",
      "지원대상: ○ 대학생, 청년, (예비)신혼부부, 한부모가족\n",
      "\n",
      "○ 고령자\n",
      "\n",
      "○ 주거급여수급자\n",
      "\n",
      "○ 산업단지 근로자\n",
      "지원내용: ○ 시중 시세의 60~80% 수준으로 공공임대주택공급\n",
      "신청방법: 방문, 인터넷\n",
      "신청기한: 접수기관 별 상이\n",
      "선정기준: ○ 대학생\n",
      "  - 미혼인 무주택자로서 다음 어느 하나에 해당하는 사람\n",
      "      * 대학에 재학 중이거나 다음 학기에 입학 또는 복학 예정인 사람\n",
      "      * 대학 또는 고등학교를 졸업 또는 중퇴한 날부터 2년 이하인 사람\n",
      "  - (소득)본인 및 부모의 소득이 평균소득의 100% 이하 (1인가구:120%, 2인가구:110%)\n",
      "  - (자산)세대내 총자산 1억원, 자동차 미소유\n",
      "\n",
      "○ 청년\n",
      "   - 미혼인 무주택자로서 다음 \n",
      "📌 조건 태그: 남성, 여성, 중위소득 0~50%, 중위소득 51~75%, 중위소득 76~100%, 중위소득 101~200%, 대학생/대학원생, 무주택세대\n",
      "--------------------------------------------------\n"
     ]
    }
   ],
   "source": [
    "# 🔍 유사 문서 + 조건 출력\n",
    "for i, doc in enumerate(docs):\n",
    "    print(f\"📄 문서 {i+1}\")\n",
    "    \n",
    "    # 🔸 문서 요약 (앞부분만 출력)\n",
    "    print(doc.page_content[:500])\n",
    "    \n",
    "    # 🔸 조건 정보 출력\n",
    "    조건들 = doc.metadata.get(\"조건\", {})\n",
    "    선택된_조건 = [k for k, v in 조건들.items() if v]\n",
    "    \n",
    "    print(f\"📌 조건 태그: {', '.join(선택된_조건) if 선택된_조건 else '조건 없음'}\")\n",
    "    print(\"-\" * 50)\n"
   ]
  },
  {
   "cell_type": "markdown",
   "metadata": {},
   "source": [
    "## 5. LLM에게 prompt 생성 → 답변 출력"
   ]
  },
  {
   "cell_type": "markdown",
   "metadata": {},
   "source": [
    "### PROMPT 생성"
   ]
  },
  {
   "cell_type": "code",
   "execution_count": 57,
   "metadata": {},
   "outputs": [],
   "source": [
    "# ✅ 검색된 문서 내용 합치기\n",
    "retrieved_text = \"\\n\\n\".join([doc.page_content for doc in docs])\n",
    "\n",
    "prompt = f\"\"\"당신은 정부 정책을 요약해주는 비서입니다.\n",
    "아래의 공공 서비스 정보들을 참고하여 사용자 질문에 대해 알기 쉽게 답변해주세요.\n",
    "\n",
    "[사용자 질문]\n",
    "{query}\n",
    "\n",
    "[관련된 서비스 정보]\n",
    "{retrieved_text}\n",
    "\n",
    "[답변]\n",
    "\"\"\""
   ]
  },
  {
   "cell_type": "markdown",
   "metadata": {},
   "source": [
    "### 결과 출력"
   ]
  },
  {
   "cell_type": "code",
   "execution_count": 58,
   "metadata": {},
   "outputs": [
    {
     "name": "stdout",
     "output_type": "stream",
     "text": [
      "🤖 Solar Chat 응답:\n",
      "서울시 청년 월세 지원사업은 19세~39세 이하 무주택 청년 1인 가구를 대상으로 하며, 소득 기준은 기준 중위소득 150% 이하, 재산 기준은 일반재산 1억 3천만원 이하, 자동차 2,500만원 미만입니다. 신청 방법은 서울주거포털에서 온라인 신청, 접수할 수 있으며, 소요 재원은 시비 100%입니다.\n",
      "\n",
      "울산 청년가구 주거비 지원사업은 19세~39세 무주택 미혼 청년가구 세대주를 대상으로 하며, 소득 기준은 기준 중위소득 150% 이하입니다. 주거급여 수급자는 제외됩니다. 신청 방법은 온라인 신청이며, 월 임차료비용 10만원 실비지급, 월 임차보증금이자비용 5만원 실비지급을 지원합니다.\n",
      "\n",
      "행복주택은 만19~39세 청년, (예비)신혼부부, 한부모가족, 대학생 등을 대상으로 하며, 시중 시세의 60~80% 수준으로 공공임대주택을 공급합니다. 신청 방법은 방문, 인터넷으로 가능하며, 접수기관 별로 신청기한이 다릅니다.\n"
     ]
    }
   ],
   "source": [
    "\n",
    "# ✅ Solar Chat API 호출\n",
    "url = \"https://api.upstage.ai/v1/chat/completions\"\n",
    "headers = {\n",
    "    \"Authorization\": f\"Bearer {UPSTAGE_API_KEY}\",\n",
    "    \"Content-Type\": \"application/json\"\n",
    "}\n",
    "payload = {\n",
    "    \"model\": \"solar-pro\",\n",
    "    \"messages\": [\n",
    "        {\"role\": \"user\", \"content\": prompt}\n",
    "    ],\n",
    "    \"temperature\": 0.7,\n",
    "    \"max_tokens\": 1024,\n",
    "    \"stream\": False\n",
    "}\n",
    "\n",
    "response = requests.post(url, headers=headers, json=payload)\n",
    "response.raise_for_status()\n",
    "\n",
    "# ✅ 결과 출력\n",
    "result = response.json()\n",
    "print(\"🤖 Solar Chat 응답:\")\n",
    "print(result[\"choices\"][0][\"message\"][\"content\"])"
   ]
  }
 ],
 "metadata": {
  "kernelspec": {
   "display_name": "rag",
   "language": "python",
   "name": "python3"
  },
  "language_info": {
   "codemirror_mode": {
    "name": "ipython",
    "version": 3
   },
   "file_extension": ".py",
   "mimetype": "text/x-python",
   "name": "python",
   "nbconvert_exporter": "python",
   "pygments_lexer": "ipython3",
   "version": "3.10.16"
  }
 },
 "nbformat": 4,
 "nbformat_minor": 2
}
